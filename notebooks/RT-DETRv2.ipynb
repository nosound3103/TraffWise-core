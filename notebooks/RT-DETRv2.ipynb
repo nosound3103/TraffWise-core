{
 "cells": [
  {
   "cell_type": "code",
   "execution_count": 1,
   "id": "1f1c403c",
   "metadata": {
    "execution": {
     "iopub.execute_input": "2025-03-31T02:16:27.626288Z",
     "iopub.status.busy": "2025-03-31T02:16:27.625944Z",
     "iopub.status.idle": "2025-03-31T02:16:40.697205Z",
     "shell.execute_reply": "2025-03-31T02:16:40.696119Z"
    },
    "papermill": {
     "duration": 13.077975,
     "end_time": "2025-03-31T02:16:40.699264",
     "exception": false,
     "start_time": "2025-03-31T02:16:27.621289",
     "status": "completed"
    },
    "tags": []
   },
   "outputs": [
    {
     "name": "stdout",
     "output_type": "stream",
     "text": [
      "\u001b[31mERROR: pip's dependency resolver does not currently take into account all the packages that are installed. This behaviour is the source of the following dependency conflicts.\r\n",
      "bigframes 0.22.0 requires google-cloud-bigquery[bqstorage,pandas]>=3.10.0, but you have google-cloud-bigquery 2.34.4 which is incompatible.\r\n",
      "bigframes 0.22.0 requires google-cloud-storage>=2.0.0, but you have google-cloud-storage 1.44.0 which is incompatible.\r\n",
      "bigframes 0.22.0 requires pandas<2.1.4,>=1.5.0, but you have pandas 2.2.2 which is incompatible.\r\n",
      "dataproc-jupyter-plugin 0.1.79 requires pydantic~=1.10.0, but you have pydantic 2.9.2 which is incompatible.\u001b[0m\u001b[31m\r\n",
      "\u001b[0m"
     ]
    }
   ],
   "source": [
    "!pip install -U -q --no-cache-dir ultralytics ipywidgets torchinfo albumentations"
   ]
  },
  {
   "cell_type": "code",
   "execution_count": 2,
   "id": "8995efe1",
   "metadata": {
    "execution": {
     "iopub.execute_input": "2025-03-31T02:16:40.707344Z",
     "iopub.status.busy": "2025-03-31T02:16:40.706908Z",
     "iopub.status.idle": "2025-03-31T02:16:41.388822Z",
     "shell.execute_reply": "2025-03-31T02:16:41.387952Z"
    },
    "papermill": {
     "duration": 0.687834,
     "end_time": "2025-03-31T02:16:41.390551",
     "exception": false,
     "start_time": "2025-03-31T02:16:40.702717",
     "status": "completed"
    },
    "tags": []
   },
   "outputs": [
    {
     "data": {
      "text/plain": [
       "'/opt/conda/lib/python3.10/site-packages/ultralytics'"
      ]
     },
     "execution_count": 2,
     "metadata": {},
     "output_type": "execute_result"
    }
   ],
   "source": [
    "import shutil\n",
    "\n",
    "original_folder = '/opt/conda/lib/python3.10/site-packages/ultralytics'\n",
    "custom_folder = '/kaggle/input/rtdetrv2-ultralytics/ultralytics'\n",
    "\n",
    "shutil.rmtree(original_folder)\n",
    "\n",
    "shutil.copytree(custom_folder, original_folder)"
   ]
  },
  {
   "cell_type": "code",
   "execution_count": 3,
   "id": "facbd955",
   "metadata": {
    "execution": {
     "iopub.execute_input": "2025-03-31T02:16:41.398044Z",
     "iopub.status.busy": "2025-03-31T02:16:41.397798Z",
     "iopub.status.idle": "2025-03-31T02:16:46.506773Z",
     "shell.execute_reply": "2025-03-31T02:16:46.505878Z"
    },
    "papermill": {
     "duration": 5.114909,
     "end_time": "2025-03-31T02:16:46.508726",
     "exception": false,
     "start_time": "2025-03-31T02:16:41.393817",
     "status": "completed"
    },
    "tags": []
   },
   "outputs": [
    {
     "name": "stdout",
     "output_type": "stream",
     "text": [
      "Creating new Ultralytics Settings v0.0.6 file ✅ \n",
      "View Ultralytics Settings with 'yolo settings' or at '/root/.config/Ultralytics/settings.json'\n",
      "Update Settings with 'yolo settings key=value', i.e. 'yolo settings runs_dir=path/to/dir'. For help see https://docs.ultralytics.com/quickstart/#ultralytics-settings.\n"
     ]
    }
   ],
   "source": [
    "import yaml\n",
    "import cv2\n",
    "import numpy as np\n",
    "import json\n",
    "import glob\n",
    "import random\n",
    "import shutil\n",
    "import gc\n",
    "import matplotlib.pyplot as plt\n",
    "import os\n",
    "import torch\n",
    "from tqdm import tqdm\n",
    "from ultralytics import YOLO, RTDETR"
   ]
  },
  {
   "cell_type": "code",
   "execution_count": 4,
   "id": "860d44f8",
   "metadata": {
    "execution": {
     "iopub.execute_input": "2025-03-31T02:16:46.518518Z",
     "iopub.status.busy": "2025-03-31T02:16:46.518169Z",
     "iopub.status.idle": "2025-03-31T02:16:46.528822Z",
     "shell.execute_reply": "2025-03-31T02:16:46.528268Z"
    },
    "papermill": {
     "duration": 0.017984,
     "end_time": "2025-03-31T02:16:46.530379",
     "exception": false,
     "start_time": "2025-03-31T02:16:46.512395",
     "status": "completed"
    },
    "tags": []
   },
   "outputs": [],
   "source": [
    "from torchinfo import summary"
   ]
  },
  {
   "cell_type": "code",
   "execution_count": 5,
   "id": "c9cef1e6",
   "metadata": {
    "execution": {
     "iopub.execute_input": "2025-03-31T02:16:46.537875Z",
     "iopub.status.busy": "2025-03-31T02:16:46.537366Z",
     "iopub.status.idle": "2025-03-31T02:16:46.630233Z",
     "shell.execute_reply": "2025-03-31T02:16:46.629465Z"
    },
    "papermill": {
     "duration": 0.098415,
     "end_time": "2025-03-31T02:16:46.631959",
     "exception": false,
     "start_time": "2025-03-31T02:16:46.533544",
     "status": "completed"
    },
    "tags": []
   },
   "outputs": [
    {
     "data": {
      "text/plain": [
       "0"
      ]
     },
     "execution_count": 5,
     "metadata": {},
     "output_type": "execute_result"
    }
   ],
   "source": [
    "torch.cuda.empty_cache()\n",
    "gc.collect()"
   ]
  },
  {
   "cell_type": "code",
   "execution_count": 6,
   "id": "9e8de4c0",
   "metadata": {
    "execution": {
     "iopub.execute_input": "2025-03-31T02:16:46.639838Z",
     "iopub.status.busy": "2025-03-31T02:16:46.639580Z",
     "iopub.status.idle": "2025-03-31T02:16:46.646019Z",
     "shell.execute_reply": "2025-03-31T02:16:46.645242Z"
    },
    "papermill": {
     "duration": 0.012158,
     "end_time": "2025-03-31T02:16:46.647621",
     "exception": false,
     "start_time": "2025-03-31T02:16:46.635463",
     "status": "completed"
    },
    "tags": []
   },
   "outputs": [],
   "source": [
    "data_yaml = {\n",
    "    'train': '/kaggle/input/vehicle-detection-v1/combination/combination/images/train',\n",
    "    'val': '/kaggle/input/vehicle-detection-v1/combination/combination/images/val',\n",
    "    'names': [\"bus\", \"car\", \"motorbike\", \"truck\"],\n",
    "    'augmentation': {\n",
    "        'hsv_h': 0.015,  # Hue augmentation (0.0-0.1)\n",
    "        'hsv_s': 0.7,    # Saturation augmentation (0.0-0.9)\n",
    "        'hsv_v': 0.4,    # Value augmentation (0.0-0.9)\n",
    "        'flipud': 0.1,   # Vertical flip probability (0.0-1.0)\n",
    "        'fliplr': 0.5,   # Horizontal flip probability (0.0-1.0)\n",
    "        'mosaic': 1.0,   # Enable mosaic augmentation\n",
    "        'mixup': 0.0,    # Disable mixup\n",
    "        'scale': 0.5,    # Random scale (0.0-1.0)\n",
    "        'translate': 0.1, # Random translation (0.0-1.0)\n",
    "        'perspective': 0.0, # Perspective transformation probability\n",
    "        'blur': 0.2 # Apply Gaussian blur\n",
    "    }\n",
    "}\n",
    "\n",
    "with open('/kaggle/working/data.yaml', 'w') as file:\n",
    "    yaml.dump(data_yaml, file, default_flow_style=False)"
   ]
  },
  {
   "cell_type": "code",
   "execution_count": 7,
   "id": "e79669ca",
   "metadata": {
    "execution": {
     "iopub.execute_input": "2025-03-31T02:16:46.655201Z",
     "iopub.status.busy": "2025-03-31T02:16:46.654741Z",
     "iopub.status.idle": "2025-03-31T02:16:46.904862Z",
     "shell.execute_reply": "2025-03-31T02:16:46.903895Z"
    },
    "papermill": {
     "duration": 0.256343,
     "end_time": "2025-03-31T02:16:46.907217",
     "exception": false,
     "start_time": "2025-03-31T02:16:46.650874",
     "status": "completed"
    },
    "tags": []
   },
   "outputs": [
    {
     "name": "stdout",
     "output_type": "stream",
     "text": [
      "WARNING ⚠️ no model scale passed. Assuming scale='l'.\n"
     ]
    }
   ],
   "source": [
    "model = RTDETR(\"/kaggle/input/rt-detr-continue-to-train/rtdetr-nano-resnet-test.yml\")"
   ]
  },
  {
   "cell_type": "code",
   "execution_count": 8,
   "id": "f0f8d861",
   "metadata": {
    "execution": {
     "iopub.execute_input": "2025-03-31T02:16:46.917870Z",
     "iopub.status.busy": "2025-03-31T02:16:46.917599Z",
     "iopub.status.idle": "2025-03-31T02:16:48.028083Z",
     "shell.execute_reply": "2025-03-31T02:16:48.027134Z"
    },
    "papermill": {
     "duration": 1.117819,
     "end_time": "2025-03-31T02:16:48.029925",
     "exception": false,
     "start_time": "2025-03-31T02:16:46.912106",
     "status": "completed"
    },
    "tags": []
   },
   "outputs": [
    {
     "name": "stdout",
     "output_type": "stream",
     "text": [
      "rtdetr-nano-resnet-test summary: 234 layers, 2,830,408 parameters, 2,830,408 gradients, 6.9 GFLOPs\n"
     ]
    },
    {
     "data": {
      "text/plain": [
       "(234, 2830408, 2830408, 6.8882432)"
      ]
     },
     "execution_count": 8,
     "metadata": {},
     "output_type": "execute_result"
    }
   ],
   "source": [
    "model.info()"
   ]
  },
  {
   "cell_type": "code",
   "execution_count": 9,
   "id": "dd2bb8f6",
   "metadata": {
    "execution": {
     "iopub.execute_input": "2025-03-31T02:16:48.038337Z",
     "iopub.status.busy": "2025-03-31T02:16:48.037934Z",
     "iopub.status.idle": "2025-03-31T12:32:22.891028Z",
     "shell.execute_reply": "2025-03-31T12:32:22.889965Z"
    },
    "papermill": {
     "duration": 36934.85999,
     "end_time": "2025-03-31T12:32:22.893581",
     "exception": false,
     "start_time": "2025-03-31T02:16:48.033591",
     "status": "completed"
    },
    "tags": []
   },
   "outputs": [
    {
     "name": "stdout",
     "output_type": "stream",
     "text": [
      "New https://pypi.org/project/ultralytics/8.3.99 available 😃 Update with 'pip install -U ultralytics'\n",
      "Ultralytics 8.3.78 🚀 Python-3.10.14 torch-2.4.0 CUDA:0 (Tesla T4, 15095MiB)\n",
      "                                                 CUDA:1 (Tesla T4, 15095MiB)\n",
      "\u001b[34m\u001b[1mengine/trainer: \u001b[0mtask=detect, mode=train, model=/kaggle/input/rt-detr-continue-to-train/rtdetr-nano-resnet-test.yml, data=/kaggle/working/data.yaml, epochs=150, time=None, patience=100, batch=96, imgsz=640, save=True, save_period=10, cache=False, device=[0, 1], workers=4, project=None, name=train, exist_ok=False, pretrained=True, optimizer=AdamW, verbose=True, seed=42, deterministic=False, single_cls=False, rect=False, cos_lr=False, close_mosaic=10, resume=False, amp=False, fraction=1.0, profile=False, freeze=None, multi_scale=False, overlap_mask=True, mask_ratio=4, dropout=0.0, val=True, split=val, save_json=False, save_hybrid=False, conf=None, iou=0.7, max_det=300, half=False, dnn=False, plots=True, source=None, vid_stride=1, stream_buffer=False, visualize=False, augment=False, agnostic_nms=False, classes=None, retina_masks=False, embed=None, show=False, save_frames=False, save_txt=False, save_conf=False, save_crop=False, show_labels=True, show_conf=True, show_boxes=True, line_width=None, format=torchscript, keras=False, optimize=False, int8=False, dynamic=False, simplify=True, opset=None, workspace=None, nms=False, lr0=0.01, lrf=0.0001, momentum=0.937, weight_decay=0.0005, warmup_epochs=20, warmup_momentum=0.8, warmup_bias_lr=0.1, box=7.5, cls=0.5, dfl=1.5, pose=12.0, kobj=1.0, nbs=64, hsv_h=0.015, hsv_s=0.7, hsv_v=0.4, degrees=0.0, translate=0.1, scale=0.5, shear=0.0, perspective=0.0, flipud=0.0, fliplr=0.5, bgr=0.0, mosaic=1.0, mixup=0.0, copy_paste=0.0, copy_paste_mode=flip, auto_augment=randaugment, erasing=0.4, crop_fraction=1.0, cfg=None, tracker=botsort.yaml, save_dir=runs/detect/train\n",
      "Downloading https://ultralytics.com/assets/Arial.ttf to '/root/.config/Ultralytics/Arial.ttf'...\n"
     ]
    },
    {
     "name": "stderr",
     "output_type": "stream",
     "text": [
      "100%|██████████| 755k/755k [00:00<00:00, 25.4MB/s]\n"
     ]
    },
    {
     "name": "stdout",
     "output_type": "stream",
     "text": [
      "WARNING ⚠️ no model scale passed. Assuming scale='l'.\n",
      "\n",
      "                   from  n    params  module                                       arguments                     \n",
      "  0                  -1  1      2384  ultralytics.nn.modules.block.ResNetLayer     [3, 16, 1, True, 1]           \n",
      "  1                  -1  1      4928  ultralytics.nn.modules.block.ResNetLayer     [16, 16, 1, False, 1]         \n",
      "  2                  -1  1     24192  ultralytics.nn.modules.block.ResNetLayer     [64, 32, 2, False, 1]         \n",
      "  3                  -1  1     95488  ultralytics.nn.modules.block.ResNetLayer     [128, 64, 2, False, 1]        \n",
      "  4                  -1  1    659456  ultralytics.nn.modules.block.ResNetLayer     [256, 128, 2, False, 2]       \n",
      "  5                  -1  1     16448  ultralytics.nn.modules.conv.Conv             [512, 32, 1, 1, None, 1, 1, False]\n",
      "  6                  -1  1     21024  ultralytics.nn.modules.transformer.AIFI      [32, 256, 8]                  \n",
      "  7                  -1  1      1088  ultralytics.nn.modules.conv.Conv             [32, 32, 1, 1]                \n",
      "  8                  -1  1         0  torch.nn.modules.upsampling.Upsample         [None, 2, 'nearest']          \n",
      "  9                   3  1      8256  ultralytics.nn.modules.conv.Conv             [256, 32, 1, 1, None, 1, 1, False]\n",
      " 10            [-2, -1]  1         0  ultralytics.nn.modules.conv.Concat           [1]                           \n",
      " 11                  -1  3     35328  ultralytics.nn.modules.block.RepC3           [64, 32, 3]                   \n",
      " 12                  -1  1      1088  ultralytics.nn.modules.conv.Conv             [32, 32, 1, 1]                \n",
      " 13                  -1  1         0  torch.nn.modules.upsampling.Upsample         [None, 2, 'nearest']          \n",
      " 14                   2  1      4160  ultralytics.nn.modules.conv.Conv             [128, 32, 1, 1, None, 1, 1, False]\n",
      " 15            [-2, -1]  1         0  ultralytics.nn.modules.conv.Concat           [1]                           \n",
      " 16                  -1  3     35328  ultralytics.nn.modules.block.RepC3           [64, 32, 3]                   \n",
      " 17                  -1  1      9280  ultralytics.nn.modules.conv.Conv             [32, 32, 3, 2]                \n",
      " 18            [-1, 12]  1         0  ultralytics.nn.modules.conv.Concat           [1]                           \n",
      " 19                  -1  3     35328  ultralytics.nn.modules.block.RepC3           [64, 32, 3]                   \n",
      " 20                  -1  1      9280  ultralytics.nn.modules.conv.Conv             [32, 32, 3, 2]                \n",
      " 21             [-1, 7]  1         0  ultralytics.nn.modules.conv.Concat           [1]                           \n",
      " 22                  -1  3     35328  ultralytics.nn.modules.block.RepC3           [64, 32, 3]                   \n",
      " 23        [16, 19, 22]  1   1832024  ultralytics.nn.modules.head.RTDETRDecoderV2  [4, [32, 32, 32], 256, 150, 4, 8, 2, 256, 0.0, -1, 50, 0.5, 1.0, False]\n",
      "rtdetr-nano-resnet-test summary: 234 layers, 2,830,408 parameters, 2,830,408 gradients, 6.9 GFLOPs\n",
      "\n",
      "\u001b[34m\u001b[1mDDP:\u001b[0m debug command /opt/conda/bin/python -m torch.distributed.run --nproc_per_node 2 --master_port 39149 /root/.config/Ultralytics/DDP/_temp_8p5xu5co139185150336912.py\n",
      "Ultralytics 8.3.78 🚀 Python-3.10.14 torch-2.4.0 CUDA:0 (Tesla T4, 15095MiB)\n",
      "                                                 CUDA:1 (Tesla T4, 15095MiB)\n",
      "\u001b[34m\u001b[1mTensorBoard: \u001b[0mStart with 'tensorboard --logdir runs/detect/train', view at http://localhost:6006/\n",
      "WARNING ⚠️ no model scale passed. Assuming scale='l'.\n"
     ]
    },
    {
     "name": "stderr",
     "output_type": "stream",
     "text": [
      "\u001b[34m\u001b[1mtrain: \u001b[0mScanning /kaggle/input/vehicle-detection-v1/combination/combination/labels/train... 17064 images, 0 backgrounds, 0 corrupt: 100%|██████████| 17064/17064 [00:48<00:00, 353.96it/s]\n"
     ]
    },
    {
     "name": "stdout",
     "output_type": "stream",
     "text": [
      "\u001b[34m\u001b[1mtrain: \u001b[0mWARNING ⚠️ Cache directory /kaggle/input/vehicle-detection-v1/combination/combination/labels is not writeable, cache not saved.\n",
      "\u001b[34m\u001b[1malbumentations: \u001b[0mBlur(p=0.01, blur_limit=(3, 7)), MedianBlur(p=0.01, blur_limit=(3, 7)), ToGray(p=0.01, num_output_channels=3, method='weighted_average'), CLAHE(p=0.01, clip_limit=(1.0, 4.0), tile_grid_size=(8, 8))\n"
     ]
    },
    {
     "name": "stderr",
     "output_type": "stream",
     "text": [
      "/opt/conda/lib/python3.10/multiprocessing/popen_fork.py:66: RuntimeWarning: os.fork() was called. os.fork() is incompatible with multithreaded code, and JAX is multithreaded, so this will likely lead to a deadlock.\n",
      "  self.pid = os.fork()\n",
      "\u001b[34m\u001b[1mval: \u001b[0mScanning /kaggle/input/vehicle-detection-v1/combination/combination/labels/val... 4280 images, 0 backgrounds, 0 corrupt: 100%|██████████| 4280/4280 [00:12<00:00, 331.43it/s]\n",
      "\u001b[34m\u001b[1mtrain: \u001b[0mScanning /kaggle/input/vehicle-detection-v1/combination/combination/labels/train... 14212 images, 0 backgrounds, 0 corrupt:  83%|████████▎ | 14212/17064 [00:19<00:03, 717.05it/s]/opt/conda/lib/python3.10/multiprocessing/popen_fork.py:66: RuntimeWarning: os.fork() was called. os.fork() is incompatible with multithreaded code, and JAX is multithreaded, so this will likely lead to a deadlock.\n",
      "  self.pid = os.fork()\n",
      "\u001b[34m\u001b[1mtrain: \u001b[0mScanning /kaggle/input/vehicle-detection-v1/combination/combination/labels/train... 14286 images, 0 backgrounds, 0 corrupt:  84%|████████▎ | 14286/17064 [00:19<00:03, 723.57it/s]"
     ]
    },
    {
     "name": "stdout",
     "output_type": "stream",
     "text": [
      "\u001b[34m\u001b[1mval: \u001b[0mWARNING ⚠️ Cache directory /kaggle/input/vehicle-detection-v1/combination/combination/labels is not writeable, cache not saved.\n"
     ]
    },
    {
     "name": "stderr",
     "output_type": "stream",
     "text": [
      "\u001b[34m\u001b[1mtrain: \u001b[0mScanning /kaggle/input/vehicle-detection-v1/combination/combination/labels/train... 15471 images, 0 backgrounds, 0 corrupt:  91%|█████████ | 15471/17064 [00:21<00:02, 619.94it/s]"
     ]
    },
    {
     "name": "stdout",
     "output_type": "stream",
     "text": [
      "Plotting labels to runs/detect/train/labels.jpg... \n"
     ]
    },
    {
     "name": "stderr",
     "output_type": "stream",
     "text": [
      "\u001b[34m\u001b[1mtrain: \u001b[0mScanning /kaggle/input/vehicle-detection-v1/combination/combination/labels/train... 17064 images, 0 backgrounds, 0 corrupt: 100%|██████████| 17064/17064 [00:23<00:00, 727.97it/s]\n"
     ]
    },
    {
     "name": "stdout",
     "output_type": "stream",
     "text": [
      "\u001b[34m\u001b[1moptimizer:\u001b[0m AdamW(lr=0.01, momentum=0.937) with parameter groups 71 weight(decay=0.0), 98 weight(decay=0.00075), 106 bias(decay=0.0)\n",
      "\u001b[34m\u001b[1mTensorBoard: \u001b[0mmodel graph visualization added ✅\n",
      "Image sizes 640 train, 640 val\n",
      "Using 4 dataloader workers\n",
      "Logging results to \u001b[1mruns/detect/train\u001b[0m\n",
      "Starting training for 150 epochs...\n",
      "\n",
      "      Epoch    GPU_mem  giou_loss   cls_loss    l1_loss  Instances       Size\n"
     ]
    },
    {
     "name": "stderr",
     "output_type": "stream",
     "text": [
      "      1/150      10.9G      1.493      0.436     0.7233        389        640: 100%|██████████| 178/178 [03:28<00:00,  1.17s/it]\n",
      "                 Class     Images  Instances      Box(P          R      mAP50  mAP50-95): 100%|██████████| 45/45 [00:42<00:00,  1.06it/s]\n"
     ]
    },
    {
     "name": "stdout",
     "output_type": "stream",
     "text": [
      "                   all       4280      38208      0.658     0.0538     0.0402    0.00921\n",
      "\n",
      "      Epoch    GPU_mem  giou_loss   cls_loss    l1_loss  Instances       Size\n"
     ]
    },
    {
     "name": "stderr",
     "output_type": "stream",
     "text": [
      "      2/150      10.8G       1.19     0.5042     0.4897        515        640: 100%|██████████| 178/178 [03:22<00:00,  1.14s/it]\n",
      "                 Class     Images  Instances      Box(P          R      mAP50  mAP50-95): 100%|██████████| 45/45 [00:41<00:00,  1.08it/s]\n"
     ]
    },
    {
     "name": "stdout",
     "output_type": "stream",
     "text": [
      "                   all       4280      38208      0.185      0.193      0.126     0.0388\n",
      "\n",
      "      Epoch    GPU_mem  giou_loss   cls_loss    l1_loss  Instances       Size\n"
     ]
    },
    {
     "name": "stderr",
     "output_type": "stream",
     "text": [
      "      3/150      10.9G     0.9782     0.6141      0.345        383        640: 100%|██████████| 178/178 [03:22<00:00,  1.14s/it]\n",
      "                 Class     Images  Instances      Box(P          R      mAP50  mAP50-95): 100%|██████████| 45/45 [00:39<00:00,  1.13it/s]\n"
     ]
    },
    {
     "name": "stdout",
     "output_type": "stream",
     "text": [
      "                   all       4280      38208       0.28      0.199      0.186     0.0639\n",
      "\n",
      "      Epoch    GPU_mem  giou_loss   cls_loss    l1_loss  Instances       Size\n"
     ]
    },
    {
     "name": "stderr",
     "output_type": "stream",
     "text": [
      "      4/150      10.9G      0.888     0.6323     0.2968        522        640: 100%|██████████| 178/178 [03:21<00:00,  1.13s/it]\n",
      "                 Class     Images  Instances      Box(P          R      mAP50  mAP50-95): 100%|██████████| 45/45 [00:41<00:00,  1.07it/s]\n"
     ]
    },
    {
     "name": "stdout",
     "output_type": "stream",
     "text": [
      "                   all       4280      38208      0.255      0.196      0.156     0.0514\n",
      "\n",
      "      Epoch    GPU_mem  giou_loss   cls_loss    l1_loss  Instances       Size\n"
     ]
    },
    {
     "name": "stderr",
     "output_type": "stream",
     "text": [
      "      5/150      10.9G     0.8813     0.6614     0.2904        566        640: 100%|██████████| 178/178 [03:21<00:00,  1.13s/it]\n",
      "                 Class     Images  Instances      Box(P          R      mAP50  mAP50-95): 100%|██████████| 45/45 [00:42<00:00,  1.07it/s]\n"
     ]
    },
    {
     "name": "stdout",
     "output_type": "stream",
     "text": [
      "                   all       4280      38208      0.473      0.245      0.227     0.0957\n",
      "\n",
      "      Epoch    GPU_mem  giou_loss   cls_loss    l1_loss  Instances       Size\n"
     ]
    },
    {
     "name": "stderr",
     "output_type": "stream",
     "text": [
      "      6/150      10.8G     0.8407      0.642     0.2712        404        640: 100%|██████████| 178/178 [03:21<00:00,  1.13s/it]\n",
      "                 Class     Images  Instances      Box(P          R      mAP50  mAP50-95): 100%|██████████| 45/45 [00:42<00:00,  1.06it/s]\n"
     ]
    },
    {
     "name": "stdout",
     "output_type": "stream",
     "text": [
      "                   all       4280      38208      0.506      0.434       0.43      0.208\n",
      "\n",
      "      Epoch    GPU_mem  giou_loss   cls_loss    l1_loss  Instances       Size\n"
     ]
    },
    {
     "name": "stderr",
     "output_type": "stream",
     "text": [
      "      7/150      10.9G     0.8133     0.6589     0.2608        406        640: 100%|██████████| 178/178 [03:21<00:00,  1.13s/it]\n",
      "                 Class     Images  Instances      Box(P          R      mAP50  mAP50-95): 100%|██████████| 45/45 [00:42<00:00,  1.07it/s]\n"
     ]
    },
    {
     "name": "stdout",
     "output_type": "stream",
     "text": [
      "                   all       4280      38208      0.345      0.245      0.219     0.0964\n",
      "\n",
      "      Epoch    GPU_mem  giou_loss   cls_loss    l1_loss  Instances       Size\n"
     ]
    },
    {
     "name": "stderr",
     "output_type": "stream",
     "text": [
      "      8/150      10.9G     0.7711     0.6456      0.247        432        640: 100%|██████████| 178/178 [03:21<00:00,  1.13s/it]\n",
      "                 Class     Images  Instances      Box(P          R      mAP50  mAP50-95): 100%|██████████| 45/45 [00:42<00:00,  1.07it/s]\n"
     ]
    },
    {
     "name": "stdout",
     "output_type": "stream",
     "text": [
      "                   all       4280      38208       0.22      0.189      0.127     0.0481\n",
      "\n",
      "      Epoch    GPU_mem  giou_loss   cls_loss    l1_loss  Instances       Size\n"
     ]
    },
    {
     "name": "stderr",
     "output_type": "stream",
     "text": [
      "      9/150      10.9G     0.7645     0.6417       0.24        487        640: 100%|██████████| 178/178 [03:22<00:00,  1.13s/it]\n",
      "                 Class     Images  Instances      Box(P          R      mAP50  mAP50-95): 100%|██████████| 45/45 [00:41<00:00,  1.08it/s]\n"
     ]
    },
    {
     "name": "stdout",
     "output_type": "stream",
     "text": [
      "                   all       4280      38208       0.37     0.0748     0.0618     0.0207\n",
      "\n",
      "      Epoch    GPU_mem  giou_loss   cls_loss    l1_loss  Instances       Size\n"
     ]
    },
    {
     "name": "stderr",
     "output_type": "stream",
     "text": [
      "     10/150      10.8G     0.7374     0.6273     0.2262        515        640: 100%|██████████| 178/178 [03:21<00:00,  1.13s/it]\n",
      "                 Class     Images  Instances      Box(P          R      mAP50  mAP50-95): 100%|██████████| 45/45 [00:42<00:00,  1.06it/s]\n"
     ]
    },
    {
     "name": "stdout",
     "output_type": "stream",
     "text": [
      "                   all       4280      38208      0.665      0.275      0.333      0.148\n",
      "\n",
      "      Epoch    GPU_mem  giou_loss   cls_loss    l1_loss  Instances       Size\n"
     ]
    },
    {
     "name": "stderr",
     "output_type": "stream",
     "text": [
      "     11/150      10.9G     0.7377     0.6367       0.23        375        640: 100%|██████████| 178/178 [03:21<00:00,  1.13s/it]\n",
      "                 Class     Images  Instances      Box(P          R      mAP50  mAP50-95): 100%|██████████| 45/45 [00:41<00:00,  1.07it/s]\n"
     ]
    },
    {
     "name": "stdout",
     "output_type": "stream",
     "text": [
      "                   all       4280      38208      0.581      0.148      0.223      0.101\n",
      "\n",
      "      Epoch    GPU_mem  giou_loss   cls_loss    l1_loss  Instances       Size\n"
     ]
    },
    {
     "name": "stderr",
     "output_type": "stream",
     "text": [
      "     12/150      10.7G      0.704     0.6358     0.2175        455        640: 100%|██████████| 178/178 [03:20<00:00,  1.13s/it]\n",
      "                 Class     Images  Instances      Box(P          R      mAP50  mAP50-95): 100%|██████████| 45/45 [00:43<00:00,  1.04it/s]\n"
     ]
    },
    {
     "name": "stdout",
     "output_type": "stream",
     "text": [
      "                   all       4280      38208      0.776      0.155      0.194     0.0891\n",
      "\n",
      "      Epoch    GPU_mem  giou_loss   cls_loss    l1_loss  Instances       Size\n"
     ]
    },
    {
     "name": "stderr",
     "output_type": "stream",
     "text": [
      "     13/150      10.7G     0.7172     0.6393     0.2214        545        640: 100%|██████████| 178/178 [03:21<00:00,  1.13s/it]\n",
      "                 Class     Images  Instances      Box(P          R      mAP50  mAP50-95): 100%|██████████| 45/45 [00:41<00:00,  1.08it/s]\n"
     ]
    },
    {
     "name": "stdout",
     "output_type": "stream",
     "text": [
      "                   all       4280      38208      0.358     0.0425     0.0297    0.00998\n",
      "\n",
      "      Epoch    GPU_mem  giou_loss   cls_loss    l1_loss  Instances       Size\n"
     ]
    },
    {
     "name": "stderr",
     "output_type": "stream",
     "text": [
      "     14/150      10.8G     0.7015     0.6435     0.2139        491        640: 100%|██████████| 178/178 [03:21<00:00,  1.13s/it]\n",
      "                 Class     Images  Instances      Box(P          R      mAP50  mAP50-95): 100%|██████████| 45/45 [00:42<00:00,  1.07it/s]\n"
     ]
    },
    {
     "name": "stdout",
     "output_type": "stream",
     "text": [
      "                   all       4280      38208      0.812     0.0754      0.139      0.058\n",
      "\n",
      "      Epoch    GPU_mem  giou_loss   cls_loss    l1_loss  Instances       Size\n"
     ]
    },
    {
     "name": "stderr",
     "output_type": "stream",
     "text": [
      "     15/150      10.9G     0.6745      0.631     0.2055        468        640: 100%|██████████| 178/178 [03:21<00:00,  1.13s/it]\n",
      "                 Class     Images  Instances      Box(P          R      mAP50  mAP50-95): 100%|██████████| 45/45 [00:42<00:00,  1.07it/s]\n"
     ]
    },
    {
     "name": "stdout",
     "output_type": "stream",
     "text": [
      "                   all       4280      38208      0.542      0.227      0.266      0.113\n",
      "\n",
      "      Epoch    GPU_mem  giou_loss   cls_loss    l1_loss  Instances       Size\n"
     ]
    },
    {
     "name": "stderr",
     "output_type": "stream",
     "text": [
      "     16/150      10.9G     0.6768     0.6234     0.2044        510        640: 100%|██████████| 178/178 [03:22<00:00,  1.14s/it]\n",
      "                 Class     Images  Instances      Box(P          R      mAP50  mAP50-95): 100%|██████████| 45/45 [00:42<00:00,  1.07it/s]\n"
     ]
    },
    {
     "name": "stdout",
     "output_type": "stream",
     "text": [
      "                   all       4280      38208      0.745      0.143      0.212      0.092\n",
      "\n",
      "      Epoch    GPU_mem  giou_loss   cls_loss    l1_loss  Instances       Size\n"
     ]
    },
    {
     "name": "stderr",
     "output_type": "stream",
     "text": [
      "     17/150      10.8G     0.6666     0.6202     0.2024        502        640: 100%|██████████| 178/178 [03:21<00:00,  1.13s/it]\n",
      "                 Class     Images  Instances      Box(P          R      mAP50  mAP50-95): 100%|██████████| 45/45 [00:42<00:00,  1.07it/s]\n"
     ]
    },
    {
     "name": "stdout",
     "output_type": "stream",
     "text": [
      "                   all       4280      38208      0.337      0.248      0.207     0.0888\n",
      "\n",
      "      Epoch    GPU_mem  giou_loss   cls_loss    l1_loss  Instances       Size\n"
     ]
    },
    {
     "name": "stderr",
     "output_type": "stream",
     "text": [
      "     18/150      10.8G     0.6633     0.6239      0.204        436        640: 100%|██████████| 178/178 [03:20<00:00,  1.13s/it]\n",
      "                 Class     Images  Instances      Box(P          R      mAP50  mAP50-95): 100%|██████████| 45/45 [00:40<00:00,  1.10it/s]\n"
     ]
    },
    {
     "name": "stdout",
     "output_type": "stream",
     "text": [
      "                   all       4280      38208      0.515      0.178      0.163     0.0658\n",
      "\n",
      "      Epoch    GPU_mem  giou_loss   cls_loss    l1_loss  Instances       Size\n"
     ]
    },
    {
     "name": "stderr",
     "output_type": "stream",
     "text": [
      "     19/150      10.8G     0.6444     0.6086     0.1924        505        640: 100%|██████████| 178/178 [03:21<00:00,  1.13s/it]\n",
      "                 Class     Images  Instances      Box(P          R      mAP50  mAP50-95): 100%|██████████| 45/45 [00:41<00:00,  1.09it/s]\n"
     ]
    },
    {
     "name": "stdout",
     "output_type": "stream",
     "text": [
      "                   all       4280      38208      0.652      0.532      0.566      0.335\n",
      "\n",
      "      Epoch    GPU_mem  giou_loss   cls_loss    l1_loss  Instances       Size\n"
     ]
    },
    {
     "name": "stderr",
     "output_type": "stream",
     "text": [
      "     20/150      10.9G     0.6322     0.6069     0.1876        504        640: 100%|██████████| 178/178 [03:20<00:00,  1.12s/it]\n",
      "                 Class     Images  Instances      Box(P          R      mAP50  mAP50-95): 100%|██████████| 45/45 [00:42<00:00,  1.07it/s]\n"
     ]
    },
    {
     "name": "stdout",
     "output_type": "stream",
     "text": [
      "                   all       4280      38208      0.709      0.259        0.3      0.137\n",
      "\n",
      "      Epoch    GPU_mem  giou_loss   cls_loss    l1_loss  Instances       Size\n"
     ]
    },
    {
     "name": "stderr",
     "output_type": "stream",
     "text": [
      "     21/150      10.9G     0.6262     0.5987     0.1852        436        640: 100%|██████████| 178/178 [03:21<00:00,  1.13s/it]\n",
      "                 Class     Images  Instances      Box(P          R      mAP50  mAP50-95): 100%|██████████| 45/45 [00:41<00:00,  1.07it/s]\n"
     ]
    },
    {
     "name": "stdout",
     "output_type": "stream",
     "text": [
      "                   all       4280      38208      0.535      0.118      0.127     0.0588\n",
      "\n",
      "      Epoch    GPU_mem  giou_loss   cls_loss    l1_loss  Instances       Size\n"
     ]
    },
    {
     "name": "stderr",
     "output_type": "stream",
     "text": [
      "     22/150      10.7G     0.6128     0.5945     0.1815        456        640: 100%|██████████| 178/178 [03:20<00:00,  1.13s/it]\n",
      "                 Class     Images  Instances      Box(P          R      mAP50  mAP50-95): 100%|██████████| 45/45 [00:42<00:00,  1.06it/s]\n"
     ]
    },
    {
     "name": "stdout",
     "output_type": "stream",
     "text": [
      "                   all       4280      38208      0.694       0.42      0.432      0.216\n",
      "\n",
      "      Epoch    GPU_mem  giou_loss   cls_loss    l1_loss  Instances       Size\n"
     ]
    },
    {
     "name": "stderr",
     "output_type": "stream",
     "text": [
      "     23/150      10.8G     0.5979     0.5799     0.1738        430        640: 100%|██████████| 178/178 [03:22<00:00,  1.14s/it]\n",
      "                 Class     Images  Instances      Box(P          R      mAP50  mAP50-95): 100%|██████████| 45/45 [00:42<00:00,  1.06it/s]\n"
     ]
    },
    {
     "name": "stdout",
     "output_type": "stream",
     "text": [
      "                   all       4280      38208      0.539      0.486      0.382       0.22\n",
      "\n",
      "      Epoch    GPU_mem  giou_loss   cls_loss    l1_loss  Instances       Size\n"
     ]
    },
    {
     "name": "stderr",
     "output_type": "stream",
     "text": [
      "     24/150      10.6G     0.5913     0.5788     0.1734        503        640: 100%|██████████| 178/178 [03:21<00:00,  1.13s/it]\n",
      "                 Class     Images  Instances      Box(P          R      mAP50  mAP50-95): 100%|██████████| 45/45 [00:41<00:00,  1.07it/s]\n"
     ]
    },
    {
     "name": "stdout",
     "output_type": "stream",
     "text": [
      "                   all       4280      38208      0.556       0.39      0.392      0.181\n",
      "\n",
      "      Epoch    GPU_mem  giou_loss   cls_loss    l1_loss  Instances       Size\n"
     ]
    },
    {
     "name": "stderr",
     "output_type": "stream",
     "text": [
      "     25/150      10.7G     0.5908      0.582     0.1726        478        640: 100%|██████████| 178/178 [03:20<00:00,  1.13s/it]\n",
      "                 Class     Images  Instances      Box(P          R      mAP50  mAP50-95): 100%|██████████| 45/45 [00:42<00:00,  1.06it/s]\n"
     ]
    },
    {
     "name": "stdout",
     "output_type": "stream",
     "text": [
      "                   all       4280      38208      0.557      0.291      0.308      0.174\n",
      "\n",
      "      Epoch    GPU_mem  giou_loss   cls_loss    l1_loss  Instances       Size\n"
     ]
    },
    {
     "name": "stderr",
     "output_type": "stream",
     "text": [
      "     26/150      10.9G     0.5802     0.5713     0.1676        443        640: 100%|██████████| 178/178 [03:21<00:00,  1.13s/it]\n",
      "                 Class     Images  Instances      Box(P          R      mAP50  mAP50-95): 100%|██████████| 45/45 [00:40<00:00,  1.10it/s]\n"
     ]
    },
    {
     "name": "stdout",
     "output_type": "stream",
     "text": [
      "                   all       4280      38208      0.513      0.514      0.437      0.238\n",
      "\n",
      "      Epoch    GPU_mem  giou_loss   cls_loss    l1_loss  Instances       Size\n"
     ]
    },
    {
     "name": "stderr",
     "output_type": "stream",
     "text": [
      "     27/150      10.8G     0.5874      0.569       0.17        417        640: 100%|██████████| 178/178 [03:21<00:00,  1.13s/it]\n",
      "                 Class     Images  Instances      Box(P          R      mAP50  mAP50-95): 100%|██████████| 45/45 [00:42<00:00,  1.06it/s]\n"
     ]
    },
    {
     "name": "stdout",
     "output_type": "stream",
     "text": [
      "                   all       4280      38208      0.621      0.442       0.45      0.249\n",
      "\n",
      "      Epoch    GPU_mem  giou_loss   cls_loss    l1_loss  Instances       Size\n"
     ]
    },
    {
     "name": "stderr",
     "output_type": "stream",
     "text": [
      "     28/150      10.8G     0.5776     0.5655     0.1657        535        640: 100%|██████████| 178/178 [03:21<00:00,  1.13s/it]\n",
      "                 Class     Images  Instances      Box(P          R      mAP50  mAP50-95): 100%|██████████| 45/45 [00:41<00:00,  1.09it/s]\n"
     ]
    },
    {
     "name": "stdout",
     "output_type": "stream",
     "text": [
      "                   all       4280      38208       0.66      0.415      0.445      0.244\n",
      "\n",
      "      Epoch    GPU_mem  giou_loss   cls_loss    l1_loss  Instances       Size\n"
     ]
    },
    {
     "name": "stderr",
     "output_type": "stream",
     "text": [
      "     29/150      10.8G     0.5743     0.5635     0.1655        553        640: 100%|██████████| 178/178 [03:20<00:00,  1.13s/it]\n",
      "                 Class     Images  Instances      Box(P          R      mAP50  mAP50-95): 100%|██████████| 45/45 [00:42<00:00,  1.06it/s]\n"
     ]
    },
    {
     "name": "stdout",
     "output_type": "stream",
     "text": [
      "                   all       4280      38208       0.58      0.392      0.384       0.23\n",
      "\n",
      "      Epoch    GPU_mem  giou_loss   cls_loss    l1_loss  Instances       Size\n"
     ]
    },
    {
     "name": "stderr",
     "output_type": "stream",
     "text": [
      "     30/150      10.9G     0.5697     0.5602     0.1639        476        640: 100%|██████████| 178/178 [03:21<00:00,  1.13s/it]\n",
      "                 Class     Images  Instances      Box(P          R      mAP50  mAP50-95): 100%|██████████| 45/45 [00:41<00:00,  1.08it/s]\n"
     ]
    },
    {
     "name": "stdout",
     "output_type": "stream",
     "text": [
      "                   all       4280      38208      0.754      0.314      0.421      0.242\n",
      "\n",
      "      Epoch    GPU_mem  giou_loss   cls_loss    l1_loss  Instances       Size\n"
     ]
    },
    {
     "name": "stderr",
     "output_type": "stream",
     "text": [
      "     31/150      10.8G      0.565     0.5586     0.1639        603        640: 100%|██████████| 178/178 [03:21<00:00,  1.13s/it]\n",
      "                 Class     Images  Instances      Box(P          R      mAP50  mAP50-95): 100%|██████████| 45/45 [00:41<00:00,  1.08it/s]\n"
     ]
    },
    {
     "name": "stdout",
     "output_type": "stream",
     "text": [
      "                   all       4280      38208      0.733      0.516      0.572      0.348\n",
      "\n",
      "      Epoch    GPU_mem  giou_loss   cls_loss    l1_loss  Instances       Size\n"
     ]
    },
    {
     "name": "stderr",
     "output_type": "stream",
     "text": [
      "     32/150      10.9G     0.5731     0.5594     0.1628        381        640: 100%|██████████| 178/178 [03:21<00:00,  1.13s/it]\n",
      "                 Class     Images  Instances      Box(P          R      mAP50  mAP50-95): 100%|██████████| 45/45 [00:41<00:00,  1.09it/s]\n"
     ]
    },
    {
     "name": "stdout",
     "output_type": "stream",
     "text": [
      "                   all       4280      38208      0.467      0.295        0.2     0.0924\n",
      "\n",
      "      Epoch    GPU_mem  giou_loss   cls_loss    l1_loss  Instances       Size\n"
     ]
    },
    {
     "name": "stderr",
     "output_type": "stream",
     "text": [
      "     33/150      10.8G     0.5585     0.5579     0.1601        346        640: 100%|██████████| 178/178 [03:21<00:00,  1.13s/it]\n",
      "                 Class     Images  Instances      Box(P          R      mAP50  mAP50-95): 100%|██████████| 45/45 [00:42<00:00,  1.06it/s]\n"
     ]
    },
    {
     "name": "stdout",
     "output_type": "stream",
     "text": [
      "                   all       4280      38208      0.715      0.485      0.553      0.308\n",
      "\n",
      "      Epoch    GPU_mem  giou_loss   cls_loss    l1_loss  Instances       Size\n"
     ]
    },
    {
     "name": "stderr",
     "output_type": "stream",
     "text": [
      "     34/150      10.9G     0.5631     0.5539     0.1613        573        640: 100%|██████████| 178/178 [03:21<00:00,  1.13s/it]\n",
      "                 Class     Images  Instances      Box(P          R      mAP50  mAP50-95): 100%|██████████| 45/45 [00:42<00:00,  1.06it/s]\n"
     ]
    },
    {
     "name": "stdout",
     "output_type": "stream",
     "text": [
      "                   all       4280      38208      0.624      0.453      0.429      0.244\n",
      "\n",
      "      Epoch    GPU_mem  giou_loss   cls_loss    l1_loss  Instances       Size\n"
     ]
    },
    {
     "name": "stderr",
     "output_type": "stream",
     "text": [
      "     35/150      10.9G     0.5541     0.5544     0.1555        499        640: 100%|██████████| 178/178 [03:21<00:00,  1.13s/it]\n",
      "                 Class     Images  Instances      Box(P          R      mAP50  mAP50-95): 100%|██████████| 45/45 [00:42<00:00,  1.07it/s]\n"
     ]
    },
    {
     "name": "stdout",
     "output_type": "stream",
     "text": [
      "                   all       4280      38208      0.735      0.598       0.68      0.442\n",
      "\n",
      "      Epoch    GPU_mem  giou_loss   cls_loss    l1_loss  Instances       Size\n"
     ]
    },
    {
     "name": "stderr",
     "output_type": "stream",
     "text": [
      "     36/150      10.7G     0.5577     0.5491     0.1582        432        640: 100%|██████████| 178/178 [03:21<00:00,  1.13s/it]\n",
      "                 Class     Images  Instances      Box(P          R      mAP50  mAP50-95): 100%|██████████| 45/45 [00:42<00:00,  1.06it/s]\n"
     ]
    },
    {
     "name": "stdout",
     "output_type": "stream",
     "text": [
      "                   all       4280      38208      0.767      0.612      0.686      0.449\n",
      "\n",
      "      Epoch    GPU_mem  giou_loss   cls_loss    l1_loss  Instances       Size\n"
     ]
    },
    {
     "name": "stderr",
     "output_type": "stream",
     "text": [
      "     37/150      10.9G     0.5465     0.5485     0.1552        451        640: 100%|██████████| 178/178 [03:22<00:00,  1.14s/it]\n",
      "                 Class     Images  Instances      Box(P          R      mAP50  mAP50-95): 100%|██████████| 45/45 [00:44<00:00,  1.02it/s]\n"
     ]
    },
    {
     "name": "stdout",
     "output_type": "stream",
     "text": [
      "                   all       4280      38208      0.723      0.651      0.679      0.405\n",
      "\n",
      "      Epoch    GPU_mem  giou_loss   cls_loss    l1_loss  Instances       Size\n"
     ]
    },
    {
     "name": "stderr",
     "output_type": "stream",
     "text": [
      "     38/150      10.9G     0.5519     0.5539     0.1578        502        640: 100%|██████████| 178/178 [03:22<00:00,  1.14s/it]\n",
      "                 Class     Images  Instances      Box(P          R      mAP50  mAP50-95): 100%|██████████| 45/45 [00:42<00:00,  1.06it/s]\n"
     ]
    },
    {
     "name": "stdout",
     "output_type": "stream",
     "text": [
      "                   all       4280      38208      0.592      0.529      0.536      0.268\n",
      "\n",
      "      Epoch    GPU_mem  giou_loss   cls_loss    l1_loss  Instances       Size\n"
     ]
    },
    {
     "name": "stderr",
     "output_type": "stream",
     "text": [
      "     39/150      10.8G     0.5461     0.5439     0.1542        448        640: 100%|██████████| 178/178 [03:21<00:00,  1.13s/it]\n",
      "                 Class     Images  Instances      Box(P          R      mAP50  mAP50-95): 100%|██████████| 45/45 [00:42<00:00,  1.06it/s]\n"
     ]
    },
    {
     "name": "stdout",
     "output_type": "stream",
     "text": [
      "                   all       4280      38208      0.653      0.499      0.443       0.27\n",
      "\n",
      "      Epoch    GPU_mem  giou_loss   cls_loss    l1_loss  Instances       Size\n"
     ]
    },
    {
     "name": "stderr",
     "output_type": "stream",
     "text": [
      "     40/150      10.9G     0.5416      0.541     0.1524        456        640: 100%|██████████| 178/178 [03:21<00:00,  1.13s/it]\n",
      "                 Class     Images  Instances      Box(P          R      mAP50  mAP50-95): 100%|██████████| 45/45 [00:42<00:00,  1.06it/s]\n"
     ]
    },
    {
     "name": "stdout",
     "output_type": "stream",
     "text": [
      "                   all       4280      38208      0.702      0.639      0.681      0.444\n",
      "\n",
      "      Epoch    GPU_mem  giou_loss   cls_loss    l1_loss  Instances       Size\n"
     ]
    },
    {
     "name": "stderr",
     "output_type": "stream",
     "text": [
      "     41/150      10.9G     0.5484     0.5417      0.154        494        640: 100%|██████████| 178/178 [03:22<00:00,  1.14s/it]\n",
      "                 Class     Images  Instances      Box(P          R      mAP50  mAP50-95): 100%|██████████| 45/45 [00:42<00:00,  1.06it/s]\n"
     ]
    },
    {
     "name": "stdout",
     "output_type": "stream",
     "text": [
      "                   all       4280      38208      0.765      0.656      0.715       0.43\n",
      "\n",
      "      Epoch    GPU_mem  giou_loss   cls_loss    l1_loss  Instances       Size\n"
     ]
    },
    {
     "name": "stderr",
     "output_type": "stream",
     "text": [
      "     42/150      10.9G     0.5412     0.5466     0.1522        433        640: 100%|██████████| 178/178 [03:22<00:00,  1.14s/it]\n",
      "                 Class     Images  Instances      Box(P          R      mAP50  mAP50-95): 100%|██████████| 45/45 [00:42<00:00,  1.05it/s]\n"
     ]
    },
    {
     "name": "stdout",
     "output_type": "stream",
     "text": [
      "                   all       4280      38208      0.707      0.648      0.671      0.443\n",
      "\n",
      "      Epoch    GPU_mem  giou_loss   cls_loss    l1_loss  Instances       Size\n"
     ]
    },
    {
     "name": "stderr",
     "output_type": "stream",
     "text": [
      "     43/150      10.9G     0.5413     0.5403     0.1521        530        640: 100%|██████████| 178/178 [03:21<00:00,  1.13s/it]\n",
      "                 Class     Images  Instances      Box(P          R      mAP50  mAP50-95): 100%|██████████| 45/45 [00:42<00:00,  1.06it/s]\n"
     ]
    },
    {
     "name": "stdout",
     "output_type": "stream",
     "text": [
      "                   all       4280      38208      0.787      0.705      0.766      0.525\n",
      "\n",
      "      Epoch    GPU_mem  giou_loss   cls_loss    l1_loss  Instances       Size\n"
     ]
    },
    {
     "name": "stderr",
     "output_type": "stream",
     "text": [
      "     44/150      10.8G     0.5455     0.5391     0.1541        411        640: 100%|██████████| 178/178 [03:21<00:00,  1.13s/it]\n",
      "                 Class     Images  Instances      Box(P          R      mAP50  mAP50-95): 100%|██████████| 45/45 [00:42<00:00,  1.06it/s]\n"
     ]
    },
    {
     "name": "stdout",
     "output_type": "stream",
     "text": [
      "                   all       4280      38208      0.801      0.687      0.766      0.514\n",
      "\n",
      "      Epoch    GPU_mem  giou_loss   cls_loss    l1_loss  Instances       Size\n"
     ]
    },
    {
     "name": "stderr",
     "output_type": "stream",
     "text": [
      "     45/150      10.8G     0.5351     0.5362     0.1496        585        640: 100%|██████████| 178/178 [03:20<00:00,  1.13s/it]\n",
      "                 Class     Images  Instances      Box(P          R      mAP50  mAP50-95): 100%|██████████| 45/45 [00:42<00:00,  1.06it/s]\n"
     ]
    },
    {
     "name": "stdout",
     "output_type": "stream",
     "text": [
      "                   all       4280      38208       0.72      0.585      0.582      0.373\n"
     ]
    },
    {
     "name": "stderr",
     "output_type": "stream",
     "text": [
      "  0%|          | 0/178 [00:00<?, ?it/s]"
     ]
    },
    {
     "name": "stdout",
     "output_type": "stream",
     "text": [
      "\n",
      "      Epoch    GPU_mem  giou_loss   cls_loss    l1_loss  Instances       Size\n"
     ]
    },
    {
     "name": "stderr",
     "output_type": "stream",
     "text": [
      "     46/150      10.7G     0.5358      0.539      0.151        559        640: 100%|██████████| 178/178 [03:21<00:00,  1.13s/it]\n",
      "                 Class     Images  Instances      Box(P          R      mAP50  mAP50-95): 100%|██████████| 45/45 [00:42<00:00,  1.06it/s]\n"
     ]
    },
    {
     "name": "stdout",
     "output_type": "stream",
     "text": [
      "                   all       4280      38208      0.793       0.71      0.783      0.529\n",
      "\n",
      "      Epoch    GPU_mem  giou_loss   cls_loss    l1_loss  Instances       Size\n"
     ]
    },
    {
     "name": "stderr",
     "output_type": "stream",
     "text": [
      "     47/150      11.1G     0.5329     0.5332      0.149        343        640: 100%|██████████| 178/178 [03:21<00:00,  1.13s/it]\n",
      "                 Class     Images  Instances      Box(P          R      mAP50  mAP50-95): 100%|██████████| 45/45 [00:42<00:00,  1.05it/s]\n"
     ]
    },
    {
     "name": "stdout",
     "output_type": "stream",
     "text": [
      "                   all       4280      38208      0.792      0.722      0.783      0.532\n",
      "\n",
      "      Epoch    GPU_mem  giou_loss   cls_loss    l1_loss  Instances       Size\n"
     ]
    },
    {
     "name": "stderr",
     "output_type": "stream",
     "text": [
      "     48/150      10.8G     0.5365     0.5397     0.1507        382        640: 100%|██████████| 178/178 [03:21<00:00,  1.13s/it]\n",
      "                 Class     Images  Instances      Box(P          R      mAP50  mAP50-95): 100%|██████████| 45/45 [00:42<00:00,  1.06it/s]\n"
     ]
    },
    {
     "name": "stdout",
     "output_type": "stream",
     "text": [
      "                   all       4280      38208      0.802      0.663      0.737      0.505\n",
      "\n",
      "      Epoch    GPU_mem  giou_loss   cls_loss    l1_loss  Instances       Size\n"
     ]
    },
    {
     "name": "stderr",
     "output_type": "stream",
     "text": [
      "     49/150      10.7G     0.5342     0.5316     0.1481        447        640: 100%|██████████| 178/178 [03:21<00:00,  1.13s/it]\n",
      "                 Class     Images  Instances      Box(P          R      mAP50  mAP50-95): 100%|██████████| 45/45 [00:42<00:00,  1.06it/s]\n"
     ]
    },
    {
     "name": "stdout",
     "output_type": "stream",
     "text": [
      "                   all       4280      38208      0.797      0.712      0.771       0.51\n",
      "\n",
      "      Epoch    GPU_mem  giou_loss   cls_loss    l1_loss  Instances       Size\n"
     ]
    },
    {
     "name": "stderr",
     "output_type": "stream",
     "text": [
      "     50/150      10.9G     0.5238      0.531     0.1468        449        640: 100%|██████████| 178/178 [03:20<00:00,  1.13s/it]\n",
      "                 Class     Images  Instances      Box(P          R      mAP50  mAP50-95): 100%|██████████| 45/45 [00:42<00:00,  1.05it/s]\n"
     ]
    },
    {
     "name": "stdout",
     "output_type": "stream",
     "text": [
      "                   all       4280      38208      0.809      0.745      0.808      0.562\n",
      "\n",
      "      Epoch    GPU_mem  giou_loss   cls_loss    l1_loss  Instances       Size\n"
     ]
    },
    {
     "name": "stderr",
     "output_type": "stream",
     "text": [
      "     51/150      10.9G     0.5278     0.5318     0.1475        463        640: 100%|██████████| 178/178 [03:20<00:00,  1.13s/it]\n",
      "                 Class     Images  Instances      Box(P          R      mAP50  mAP50-95): 100%|██████████| 45/45 [00:41<00:00,  1.08it/s]\n"
     ]
    },
    {
     "name": "stdout",
     "output_type": "stream",
     "text": [
      "                   all       4280      38208      0.809      0.761      0.818       0.57\n",
      "\n",
      "      Epoch    GPU_mem  giou_loss   cls_loss    l1_loss  Instances       Size\n"
     ]
    },
    {
     "name": "stderr",
     "output_type": "stream",
     "text": [
      "     52/150      10.8G     0.5193     0.5313     0.1464        509        640: 100%|██████████| 178/178 [03:20<00:00,  1.13s/it]\n",
      "                 Class     Images  Instances      Box(P          R      mAP50  mAP50-95): 100%|██████████| 45/45 [00:42<00:00,  1.06it/s]\n"
     ]
    },
    {
     "name": "stdout",
     "output_type": "stream",
     "text": [
      "                   all       4280      38208      0.774      0.708      0.742      0.505\n",
      "\n",
      "      Epoch    GPU_mem  giou_loss   cls_loss    l1_loss  Instances       Size\n"
     ]
    },
    {
     "name": "stderr",
     "output_type": "stream",
     "text": [
      "     53/150      10.9G     0.5253      0.536     0.1487        406        640: 100%|██████████| 178/178 [03:20<00:00,  1.13s/it]\n",
      "                 Class     Images  Instances      Box(P          R      mAP50  mAP50-95): 100%|██████████| 45/45 [00:42<00:00,  1.06it/s]\n"
     ]
    },
    {
     "name": "stdout",
     "output_type": "stream",
     "text": [
      "                   all       4280      38208      0.807       0.74      0.789      0.537\n",
      "\n",
      "      Epoch    GPU_mem  giou_loss   cls_loss    l1_loss  Instances       Size\n"
     ]
    },
    {
     "name": "stderr",
     "output_type": "stream",
     "text": [
      "     54/150      10.9G     0.5208     0.5254     0.1447        371        640: 100%|██████████| 178/178 [03:20<00:00,  1.13s/it]\n",
      "                 Class     Images  Instances      Box(P          R      mAP50  mAP50-95): 100%|██████████| 45/45 [00:42<00:00,  1.05it/s]\n"
     ]
    },
    {
     "name": "stdout",
     "output_type": "stream",
     "text": [
      "                   all       4280      38208      0.797      0.685      0.746        0.5\n",
      "\n",
      "      Epoch    GPU_mem  giou_loss   cls_loss    l1_loss  Instances       Size\n"
     ]
    },
    {
     "name": "stderr",
     "output_type": "stream",
     "text": [
      "     55/150      11.2G     0.5247     0.5289     0.1463        529        640: 100%|██████████| 178/178 [03:21<00:00,  1.13s/it]\n",
      "                 Class     Images  Instances      Box(P          R      mAP50  mAP50-95): 100%|██████████| 45/45 [00:42<00:00,  1.05it/s]\n"
     ]
    },
    {
     "name": "stdout",
     "output_type": "stream",
     "text": [
      "                   all       4280      38208      0.815      0.749      0.804      0.549\n",
      "\n",
      "      Epoch    GPU_mem  giou_loss   cls_loss    l1_loss  Instances       Size\n"
     ]
    },
    {
     "name": "stderr",
     "output_type": "stream",
     "text": [
      "     56/150      10.8G     0.5195     0.5222     0.1429        488        640: 100%|██████████| 178/178 [03:21<00:00,  1.13s/it]\n",
      "                 Class     Images  Instances      Box(P          R      mAP50  mAP50-95): 100%|██████████| 45/45 [00:41<00:00,  1.08it/s]\n"
     ]
    },
    {
     "name": "stdout",
     "output_type": "stream",
     "text": [
      "                   all       4280      38208      0.824      0.756       0.82      0.571\n",
      "\n",
      "      Epoch    GPU_mem  giou_loss   cls_loss    l1_loss  Instances       Size\n"
     ]
    },
    {
     "name": "stderr",
     "output_type": "stream",
     "text": [
      "     57/150      10.9G     0.5143     0.5233     0.1441        410        640: 100%|██████████| 178/178 [03:21<00:00,  1.13s/it]\n",
      "                 Class     Images  Instances      Box(P          R      mAP50  mAP50-95): 100%|██████████| 45/45 [00:42<00:00,  1.06it/s]\n"
     ]
    },
    {
     "name": "stdout",
     "output_type": "stream",
     "text": [
      "                   all       4280      38208      0.814      0.769      0.823      0.578\n",
      "\n",
      "      Epoch    GPU_mem  giou_loss   cls_loss    l1_loss  Instances       Size\n"
     ]
    },
    {
     "name": "stderr",
     "output_type": "stream",
     "text": [
      "     58/150      10.9G     0.5205     0.5211     0.1441        450        640: 100%|██████████| 178/178 [03:21<00:00,  1.13s/it]\n",
      "                 Class     Images  Instances      Box(P          R      mAP50  mAP50-95): 100%|██████████| 45/45 [00:41<00:00,  1.09it/s]\n"
     ]
    },
    {
     "name": "stdout",
     "output_type": "stream",
     "text": [
      "                   all       4280      38208      0.831      0.768      0.827      0.581\n",
      "\n",
      "      Epoch    GPU_mem  giou_loss   cls_loss    l1_loss  Instances       Size\n"
     ]
    },
    {
     "name": "stderr",
     "output_type": "stream",
     "text": [
      "     59/150      10.9G     0.5177     0.5266     0.1439        504        640: 100%|██████████| 178/178 [03:21<00:00,  1.13s/it]\n",
      "                 Class     Images  Instances      Box(P          R      mAP50  mAP50-95): 100%|██████████| 45/45 [00:42<00:00,  1.05it/s]\n"
     ]
    },
    {
     "name": "stdout",
     "output_type": "stream",
     "text": [
      "                   all       4280      38208      0.833      0.762      0.824      0.572\n",
      "\n",
      "      Epoch    GPU_mem  giou_loss   cls_loss    l1_loss  Instances       Size\n"
     ]
    },
    {
     "name": "stderr",
     "output_type": "stream",
     "text": [
      "     60/150      10.7G     0.5158     0.5273     0.1435        402        640: 100%|██████████| 178/178 [03:21<00:00,  1.13s/it]\n",
      "                 Class     Images  Instances      Box(P          R      mAP50  mAP50-95): 100%|██████████| 45/45 [00:42<00:00,  1.05it/s]\n"
     ]
    },
    {
     "name": "stdout",
     "output_type": "stream",
     "text": [
      "                   all       4280      38208      0.822      0.765      0.825      0.574\n",
      "\n",
      "      Epoch    GPU_mem  giou_loss   cls_loss    l1_loss  Instances       Size\n"
     ]
    },
    {
     "name": "stderr",
     "output_type": "stream",
     "text": [
      "     61/150      10.7G     0.5117      0.523      0.142        423        640: 100%|██████████| 178/178 [03:20<00:00,  1.13s/it]\n",
      "                 Class     Images  Instances      Box(P          R      mAP50  mAP50-95): 100%|██████████| 45/45 [00:41<00:00,  1.09it/s]\n"
     ]
    },
    {
     "name": "stdout",
     "output_type": "stream",
     "text": [
      "                   all       4280      38208      0.814      0.778      0.833      0.582\n",
      "\n",
      "      Epoch    GPU_mem  giou_loss   cls_loss    l1_loss  Instances       Size\n"
     ]
    },
    {
     "name": "stderr",
     "output_type": "stream",
     "text": [
      "     62/150      10.6G     0.5197     0.5204     0.1442        576        640: 100%|██████████| 178/178 [03:21<00:00,  1.13s/it]\n",
      "                 Class     Images  Instances      Box(P          R      mAP50  mAP50-95): 100%|██████████| 45/45 [00:42<00:00,  1.06it/s]\n"
     ]
    },
    {
     "name": "stdout",
     "output_type": "stream",
     "text": [
      "                   all       4280      38208      0.825      0.768      0.832      0.584\n",
      "\n",
      "      Epoch    GPU_mem  giou_loss   cls_loss    l1_loss  Instances       Size\n"
     ]
    },
    {
     "name": "stderr",
     "output_type": "stream",
     "text": [
      "     63/150      11.1G     0.5195     0.5151     0.1446        446        640: 100%|██████████| 178/178 [03:20<00:00,  1.13s/it]\n",
      "                 Class     Images  Instances      Box(P          R      mAP50  mAP50-95): 100%|██████████| 45/45 [00:41<00:00,  1.09it/s]\n"
     ]
    },
    {
     "name": "stdout",
     "output_type": "stream",
     "text": [
      "                   all       4280      38208      0.824      0.764       0.83      0.586\n",
      "\n",
      "      Epoch    GPU_mem  giou_loss   cls_loss    l1_loss  Instances       Size\n"
     ]
    },
    {
     "name": "stderr",
     "output_type": "stream",
     "text": [
      "     64/150      10.8G     0.5056     0.5229     0.1411        521        640: 100%|██████████| 178/178 [03:20<00:00,  1.13s/it]\n",
      "                 Class     Images  Instances      Box(P          R      mAP50  mAP50-95): 100%|██████████| 45/45 [00:41<00:00,  1.09it/s]\n"
     ]
    },
    {
     "name": "stdout",
     "output_type": "stream",
     "text": [
      "                   all       4280      38208       0.83      0.771      0.833       0.59\n",
      "\n",
      "      Epoch    GPU_mem  giou_loss   cls_loss    l1_loss  Instances       Size\n"
     ]
    },
    {
     "name": "stderr",
     "output_type": "stream",
     "text": [
      "     65/150      10.6G     0.5121     0.5161     0.1406        476        640: 100%|██████████| 178/178 [03:21<00:00,  1.13s/it]\n",
      "                 Class     Images  Instances      Box(P          R      mAP50  mAP50-95): 100%|██████████| 45/45 [00:41<00:00,  1.10it/s]\n"
     ]
    },
    {
     "name": "stdout",
     "output_type": "stream",
     "text": [
      "                   all       4280      38208      0.833      0.769      0.834      0.589\n",
      "\n",
      "      Epoch    GPU_mem  giou_loss   cls_loss    l1_loss  Instances       Size\n"
     ]
    },
    {
     "name": "stderr",
     "output_type": "stream",
     "text": [
      "     66/150      10.8G     0.5076     0.5188     0.1443        616        640: 100%|██████████| 178/178 [03:21<00:00,  1.13s/it]\n",
      "                 Class     Images  Instances      Box(P          R      mAP50  mAP50-95): 100%|██████████| 45/45 [00:42<00:00,  1.06it/s]\n"
     ]
    },
    {
     "name": "stdout",
     "output_type": "stream",
     "text": [
      "                   all       4280      38208      0.835      0.776      0.839      0.597\n",
      "\n",
      "      Epoch    GPU_mem  giou_loss   cls_loss    l1_loss  Instances       Size\n"
     ]
    },
    {
     "name": "stderr",
     "output_type": "stream",
     "text": [
      "     67/150      11.1G     0.5048     0.5149     0.1404        366        640: 100%|██████████| 178/178 [03:21<00:00,  1.13s/it]\n",
      "                 Class     Images  Instances      Box(P          R      mAP50  mAP50-95): 100%|██████████| 45/45 [00:42<00:00,  1.06it/s]\n"
     ]
    },
    {
     "name": "stdout",
     "output_type": "stream",
     "text": [
      "                   all       4280      38208      0.838      0.762      0.828      0.591\n",
      "\n",
      "      Epoch    GPU_mem  giou_loss   cls_loss    l1_loss  Instances       Size\n"
     ]
    },
    {
     "name": "stderr",
     "output_type": "stream",
     "text": [
      "     68/150      10.8G     0.5038     0.5151     0.1393        509        640: 100%|██████████| 178/178 [03:21<00:00,  1.13s/it]\n",
      "                 Class     Images  Instances      Box(P          R      mAP50  mAP50-95): 100%|██████████| 45/45 [00:41<00:00,  1.10it/s]\n"
     ]
    },
    {
     "name": "stdout",
     "output_type": "stream",
     "text": [
      "                   all       4280      38208      0.834      0.781      0.844      0.602\n",
      "\n",
      "      Epoch    GPU_mem  giou_loss   cls_loss    l1_loss  Instances       Size\n"
     ]
    },
    {
     "name": "stderr",
     "output_type": "stream",
     "text": [
      "     69/150      10.8G     0.5131     0.5163      0.142        505        640: 100%|██████████| 178/178 [03:21<00:00,  1.13s/it]\n",
      "                 Class     Images  Instances      Box(P          R      mAP50  mAP50-95): 100%|██████████| 45/45 [00:41<00:00,  1.08it/s]\n"
     ]
    },
    {
     "name": "stdout",
     "output_type": "stream",
     "text": [
      "                   all       4280      38208      0.827      0.781      0.838      0.601\n",
      "\n",
      "      Epoch    GPU_mem  giou_loss   cls_loss    l1_loss  Instances       Size\n"
     ]
    },
    {
     "name": "stderr",
     "output_type": "stream",
     "text": [
      "     70/150      10.8G     0.5053      0.511     0.1391        469        640: 100%|██████████| 178/178 [03:21<00:00,  1.13s/it]\n",
      "                 Class     Images  Instances      Box(P          R      mAP50  mAP50-95): 100%|██████████| 45/45 [00:41<00:00,  1.09it/s]\n"
     ]
    },
    {
     "name": "stdout",
     "output_type": "stream",
     "text": [
      "                   all       4280      38208      0.835       0.78       0.84      0.602\n",
      "\n",
      "      Epoch    GPU_mem  giou_loss   cls_loss    l1_loss  Instances       Size\n"
     ]
    },
    {
     "name": "stderr",
     "output_type": "stream",
     "text": [
      "     71/150      10.9G     0.5105     0.5091     0.1402        497        640: 100%|██████████| 178/178 [03:22<00:00,  1.14s/it]\n",
      "                 Class     Images  Instances      Box(P          R      mAP50  mAP50-95): 100%|██████████| 45/45 [00:43<00:00,  1.03it/s]\n"
     ]
    },
    {
     "name": "stdout",
     "output_type": "stream",
     "text": [
      "                   all       4280      38208      0.833      0.781      0.838      0.601\n",
      "\n",
      "      Epoch    GPU_mem  giou_loss   cls_loss    l1_loss  Instances       Size\n"
     ]
    },
    {
     "name": "stderr",
     "output_type": "stream",
     "text": [
      "     72/150      10.8G     0.5027     0.5134     0.1407        406        640: 100%|██████████| 178/178 [03:23<00:00,  1.14s/it]\n",
      "                 Class     Images  Instances      Box(P          R      mAP50  mAP50-95): 100%|██████████| 45/45 [00:42<00:00,  1.05it/s]\n"
     ]
    },
    {
     "name": "stdout",
     "output_type": "stream",
     "text": [
      "                   all       4280      38208      0.827      0.782      0.838      0.602\n",
      "\n",
      "      Epoch    GPU_mem  giou_loss   cls_loss    l1_loss  Instances       Size\n"
     ]
    },
    {
     "name": "stderr",
     "output_type": "stream",
     "text": [
      "     73/150      10.7G     0.5052     0.5121     0.1393        302        640: 100%|██████████| 178/178 [03:23<00:00,  1.14s/it]\n",
      "                 Class     Images  Instances      Box(P          R      mAP50  mAP50-95): 100%|██████████| 45/45 [00:42<00:00,  1.06it/s]\n"
     ]
    },
    {
     "name": "stdout",
     "output_type": "stream",
     "text": [
      "                   all       4280      38208      0.831      0.783      0.841      0.605\n",
      "\n",
      "      Epoch    GPU_mem  giou_loss   cls_loss    l1_loss  Instances       Size\n"
     ]
    },
    {
     "name": "stderr",
     "output_type": "stream",
     "text": [
      "     74/150        11G      0.507     0.5081     0.1378        549        640: 100%|██████████| 178/178 [03:22<00:00,  1.13s/it]\n",
      "                 Class     Images  Instances      Box(P          R      mAP50  mAP50-95): 100%|██████████| 45/45 [00:42<00:00,  1.06it/s]\n"
     ]
    },
    {
     "name": "stdout",
     "output_type": "stream",
     "text": [
      "                   all       4280      38208      0.827       0.79      0.844      0.608\n",
      "\n",
      "      Epoch    GPU_mem  giou_loss   cls_loss    l1_loss  Instances       Size\n"
     ]
    },
    {
     "name": "stderr",
     "output_type": "stream",
     "text": [
      "     75/150      10.9G     0.5061      0.511     0.1412        584        640: 100%|██████████| 178/178 [03:22<00:00,  1.14s/it]\n",
      "                 Class     Images  Instances      Box(P          R      mAP50  mAP50-95): 100%|██████████| 45/45 [00:41<00:00,  1.10it/s]\n"
     ]
    },
    {
     "name": "stdout",
     "output_type": "stream",
     "text": [
      "                   all       4280      38208      0.838       0.78      0.843      0.606\n",
      "\n",
      "      Epoch    GPU_mem  giou_loss   cls_loss    l1_loss  Instances       Size\n"
     ]
    },
    {
     "name": "stderr",
     "output_type": "stream",
     "text": [
      "     76/150      10.9G     0.5163     0.5118     0.1427        385        640: 100%|██████████| 178/178 [03:22<00:00,  1.14s/it]\n",
      "                 Class     Images  Instances      Box(P          R      mAP50  mAP50-95): 100%|██████████| 45/45 [00:41<00:00,  1.09it/s]\n"
     ]
    },
    {
     "name": "stdout",
     "output_type": "stream",
     "text": [
      "                   all       4280      38208      0.831      0.785      0.842      0.605\n",
      "\n",
      "      Epoch    GPU_mem  giou_loss   cls_loss    l1_loss  Instances       Size\n"
     ]
    },
    {
     "name": "stderr",
     "output_type": "stream",
     "text": [
      "     77/150      10.9G     0.5043     0.5136     0.1401        445        640: 100%|██████████| 178/178 [03:22<00:00,  1.14s/it]\n",
      "                 Class     Images  Instances      Box(P          R      mAP50  mAP50-95): 100%|██████████| 45/45 [00:42<00:00,  1.05it/s]\n"
     ]
    },
    {
     "name": "stdout",
     "output_type": "stream",
     "text": [
      "                   all       4280      38208      0.834      0.792      0.848       0.61\n",
      "\n",
      "      Epoch    GPU_mem  giou_loss   cls_loss    l1_loss  Instances       Size\n"
     ]
    },
    {
     "name": "stderr",
     "output_type": "stream",
     "text": [
      "     78/150      10.9G     0.4957     0.5097     0.1375        486        640: 100%|██████████| 178/178 [03:22<00:00,  1.14s/it]\n",
      "                 Class     Images  Instances      Box(P          R      mAP50  mAP50-95): 100%|██████████| 45/45 [00:42<00:00,  1.07it/s]\n"
     ]
    },
    {
     "name": "stdout",
     "output_type": "stream",
     "text": [
      "                   all       4280      38208      0.834      0.791      0.849       0.61\n",
      "\n",
      "      Epoch    GPU_mem  giou_loss   cls_loss    l1_loss  Instances       Size\n"
     ]
    },
    {
     "name": "stderr",
     "output_type": "stream",
     "text": [
      "     79/150      10.9G     0.5051     0.5106     0.1408        450        640: 100%|██████████| 178/178 [03:23<00:00,  1.14s/it]\n",
      "                 Class     Images  Instances      Box(P          R      mAP50  mAP50-95): 100%|██████████| 45/45 [00:42<00:00,  1.05it/s]\n"
     ]
    },
    {
     "name": "stdout",
     "output_type": "stream",
     "text": [
      "                   all       4280      38208       0.83      0.784      0.846      0.607\n",
      "\n",
      "      Epoch    GPU_mem  giou_loss   cls_loss    l1_loss  Instances       Size\n"
     ]
    },
    {
     "name": "stderr",
     "output_type": "stream",
     "text": [
      "     80/150      10.7G     0.5017     0.5067     0.1376        506        640: 100%|██████████| 178/178 [03:21<00:00,  1.13s/it]\n",
      "                 Class     Images  Instances      Box(P          R      mAP50  mAP50-95): 100%|██████████| 45/45 [00:42<00:00,  1.05it/s]\n"
     ]
    },
    {
     "name": "stdout",
     "output_type": "stream",
     "text": [
      "                   all       4280      38208       0.83      0.784      0.844      0.606\n",
      "\n",
      "      Epoch    GPU_mem  giou_loss   cls_loss    l1_loss  Instances       Size\n"
     ]
    },
    {
     "name": "stderr",
     "output_type": "stream",
     "text": [
      "     81/150      10.8G     0.4975     0.5034     0.1351        482        640: 100%|██████████| 178/178 [03:21<00:00,  1.13s/it]\n",
      "                 Class     Images  Instances      Box(P          R      mAP50  mAP50-95): 100%|██████████| 45/45 [00:42<00:00,  1.05it/s]\n"
     ]
    },
    {
     "name": "stdout",
     "output_type": "stream",
     "text": [
      "                   all       4280      38208      0.823      0.789      0.844      0.605\n",
      "\n",
      "      Epoch    GPU_mem  giou_loss   cls_loss    l1_loss  Instances       Size\n"
     ]
    },
    {
     "name": "stderr",
     "output_type": "stream",
     "text": [
      "     82/150      10.6G     0.5003     0.5097     0.1376        476        640: 100%|██████████| 178/178 [03:21<00:00,  1.13s/it]\n",
      "                 Class     Images  Instances      Box(P          R      mAP50  mAP50-95): 100%|██████████| 45/45 [00:42<00:00,  1.06it/s]\n"
     ]
    },
    {
     "name": "stdout",
     "output_type": "stream",
     "text": [
      "                   all       4280      38208      0.828      0.789      0.848      0.606\n",
      "\n",
      "      Epoch    GPU_mem  giou_loss   cls_loss    l1_loss  Instances       Size\n"
     ]
    },
    {
     "name": "stderr",
     "output_type": "stream",
     "text": [
      "     83/150      10.7G     0.4939     0.5111     0.1371        536        640: 100%|██████████| 178/178 [03:21<00:00,  1.13s/it]\n",
      "                 Class     Images  Instances      Box(P          R      mAP50  mAP50-95): 100%|██████████| 45/45 [00:41<00:00,  1.09it/s]\n"
     ]
    },
    {
     "name": "stdout",
     "output_type": "stream",
     "text": [
      "                   all       4280      38208      0.834      0.791       0.85      0.609\n",
      "\n",
      "      Epoch    GPU_mem  giou_loss   cls_loss    l1_loss  Instances       Size\n"
     ]
    },
    {
     "name": "stderr",
     "output_type": "stream",
     "text": [
      "     84/150      10.8G     0.4959     0.5037     0.1359        458        640: 100%|██████████| 178/178 [03:21<00:00,  1.13s/it]\n",
      "                 Class     Images  Instances      Box(P          R      mAP50  mAP50-95): 100%|██████████| 45/45 [00:42<00:00,  1.06it/s]\n"
     ]
    },
    {
     "name": "stdout",
     "output_type": "stream",
     "text": [
      "                   all       4280      38208      0.839      0.789      0.851      0.612\n",
      "\n",
      "      Epoch    GPU_mem  giou_loss   cls_loss    l1_loss  Instances       Size\n"
     ]
    },
    {
     "name": "stderr",
     "output_type": "stream",
     "text": [
      "     85/150      10.7G     0.4922     0.5063     0.1346        377        640: 100%|██████████| 178/178 [03:21<00:00,  1.13s/it]\n",
      "                 Class     Images  Instances      Box(P          R      mAP50  mAP50-95): 100%|██████████| 45/45 [00:41<00:00,  1.09it/s]\n"
     ]
    },
    {
     "name": "stdout",
     "output_type": "stream",
     "text": [
      "                   all       4280      38208      0.833      0.793      0.852      0.614\n",
      "\n",
      "      Epoch    GPU_mem  giou_loss   cls_loss    l1_loss  Instances       Size\n"
     ]
    },
    {
     "name": "stderr",
     "output_type": "stream",
     "text": [
      "     86/150      10.7G     0.4928     0.5074     0.1356        497        640: 100%|██████████| 178/178 [03:22<00:00,  1.14s/it]\n",
      "                 Class     Images  Instances      Box(P          R      mAP50  mAP50-95): 100%|██████████| 45/45 [00:41<00:00,  1.09it/s]\n"
     ]
    },
    {
     "name": "stdout",
     "output_type": "stream",
     "text": [
      "                   all       4280      38208      0.835      0.794      0.852      0.614\n",
      "\n",
      "      Epoch    GPU_mem  giou_loss   cls_loss    l1_loss  Instances       Size\n"
     ]
    },
    {
     "name": "stderr",
     "output_type": "stream",
     "text": [
      "     87/150      10.9G     0.4909     0.5028     0.1344        484        640: 100%|██████████| 178/178 [03:22<00:00,  1.14s/it]\n",
      "                 Class     Images  Instances      Box(P          R      mAP50  mAP50-95): 100%|██████████| 45/45 [00:41<00:00,  1.08it/s]\n"
     ]
    },
    {
     "name": "stdout",
     "output_type": "stream",
     "text": [
      "                   all       4280      38208      0.834      0.794      0.851      0.614\n",
      "\n",
      "      Epoch    GPU_mem  giou_loss   cls_loss    l1_loss  Instances       Size\n"
     ]
    },
    {
     "name": "stderr",
     "output_type": "stream",
     "text": [
      "     88/150      10.7G     0.4848     0.4997     0.1307        461        640: 100%|██████████| 178/178 [03:22<00:00,  1.14s/it]\n",
      "                 Class     Images  Instances      Box(P          R      mAP50  mAP50-95): 100%|██████████| 45/45 [00:41<00:00,  1.09it/s]\n"
     ]
    },
    {
     "name": "stdout",
     "output_type": "stream",
     "text": [
      "                   all       4280      38208      0.836      0.791      0.851      0.615\n",
      "\n",
      "      Epoch    GPU_mem  giou_loss   cls_loss    l1_loss  Instances       Size\n"
     ]
    },
    {
     "name": "stderr",
     "output_type": "stream",
     "text": [
      "     89/150      10.9G     0.4926     0.5011     0.1353        449        640: 100%|██████████| 178/178 [03:22<00:00,  1.14s/it]\n",
      "                 Class     Images  Instances      Box(P          R      mAP50  mAP50-95): 100%|██████████| 45/45 [00:42<00:00,  1.05it/s]\n"
     ]
    },
    {
     "name": "stdout",
     "output_type": "stream",
     "text": [
      "                   all       4280      38208      0.837      0.793      0.852      0.616\n",
      "\n",
      "      Epoch    GPU_mem  giou_loss   cls_loss    l1_loss  Instances       Size\n"
     ]
    },
    {
     "name": "stderr",
     "output_type": "stream",
     "text": [
      "     90/150      10.9G     0.4851      0.502     0.1347        506        640: 100%|██████████| 178/178 [03:22<00:00,  1.14s/it]\n",
      "                 Class     Images  Instances      Box(P          R      mAP50  mAP50-95): 100%|██████████| 45/45 [00:42<00:00,  1.05it/s]\n"
     ]
    },
    {
     "name": "stdout",
     "output_type": "stream",
     "text": [
      "                   all       4280      38208      0.836      0.794      0.852      0.616\n",
      "\n",
      "      Epoch    GPU_mem  giou_loss   cls_loss    l1_loss  Instances       Size\n"
     ]
    },
    {
     "name": "stderr",
     "output_type": "stream",
     "text": [
      "     91/150      10.9G      0.495     0.5048     0.1357        507        640: 100%|██████████| 178/178 [03:22<00:00,  1.14s/it]\n",
      "                 Class     Images  Instances      Box(P          R      mAP50  mAP50-95): 100%|██████████| 45/45 [00:42<00:00,  1.05it/s]\n"
     ]
    },
    {
     "name": "stdout",
     "output_type": "stream",
     "text": [
      "                   all       4280      38208       0.84      0.792      0.853      0.617\n",
      "\n",
      "      Epoch    GPU_mem  giou_loss   cls_loss    l1_loss  Instances       Size\n"
     ]
    },
    {
     "name": "stderr",
     "output_type": "stream",
     "text": [
      "     92/150      11.1G     0.4852     0.4995      0.133        451        640: 100%|██████████| 178/178 [03:21<00:00,  1.13s/it]\n",
      "                 Class     Images  Instances      Box(P          R      mAP50  mAP50-95): 100%|██████████| 45/45 [00:41<00:00,  1.09it/s]\n"
     ]
    },
    {
     "name": "stdout",
     "output_type": "stream",
     "text": [
      "                   all       4280      38208      0.844      0.792      0.853      0.618\n",
      "\n",
      "      Epoch    GPU_mem  giou_loss   cls_loss    l1_loss  Instances       Size\n"
     ]
    },
    {
     "name": "stderr",
     "output_type": "stream",
     "text": [
      "     93/150        11G     0.4908     0.5018     0.1324        498        640: 100%|██████████| 178/178 [03:22<00:00,  1.14s/it]\n",
      "                 Class     Images  Instances      Box(P          R      mAP50  mAP50-95): 100%|██████████| 45/45 [00:41<00:00,  1.09it/s]\n"
     ]
    },
    {
     "name": "stdout",
     "output_type": "stream",
     "text": [
      "                   all       4280      38208      0.842      0.793      0.853      0.618\n",
      "\n",
      "      Epoch    GPU_mem  giou_loss   cls_loss    l1_loss  Instances       Size\n"
     ]
    },
    {
     "name": "stderr",
     "output_type": "stream",
     "text": [
      "     94/150      11.3G     0.4825     0.4988     0.1306        487        640: 100%|██████████| 178/178 [03:22<00:00,  1.14s/it]\n",
      "                 Class     Images  Instances      Box(P          R      mAP50  mAP50-95): 100%|██████████| 45/45 [00:42<00:00,  1.05it/s]\n"
     ]
    },
    {
     "name": "stdout",
     "output_type": "stream",
     "text": [
      "                   all       4280      38208      0.842      0.794      0.853      0.618\n",
      "\n",
      "      Epoch    GPU_mem  giou_loss   cls_loss    l1_loss  Instances       Size\n"
     ]
    },
    {
     "name": "stderr",
     "output_type": "stream",
     "text": [
      "     95/150      10.8G     0.4892     0.4992     0.1331        533        640: 100%|██████████| 178/178 [03:23<00:00,  1.14s/it]\n",
      "                 Class     Images  Instances      Box(P          R      mAP50  mAP50-95): 100%|██████████| 45/45 [00:42<00:00,  1.05it/s]\n"
     ]
    },
    {
     "name": "stdout",
     "output_type": "stream",
     "text": [
      "                   all       4280      38208      0.839      0.796      0.853      0.618\n",
      "\n",
      "      Epoch    GPU_mem  giou_loss   cls_loss    l1_loss  Instances       Size\n"
     ]
    },
    {
     "name": "stderr",
     "output_type": "stream",
     "text": [
      "     96/150      10.7G     0.4838     0.4979     0.1322        440        640: 100%|██████████| 178/178 [03:23<00:00,  1.14s/it]\n",
      "                 Class     Images  Instances      Box(P          R      mAP50  mAP50-95): 100%|██████████| 45/45 [00:43<00:00,  1.05it/s]\n"
     ]
    },
    {
     "name": "stdout",
     "output_type": "stream",
     "text": [
      "                   all       4280      38208      0.838      0.797      0.853      0.619\n",
      "\n",
      "      Epoch    GPU_mem  giou_loss   cls_loss    l1_loss  Instances       Size\n"
     ]
    },
    {
     "name": "stderr",
     "output_type": "stream",
     "text": [
      "     97/150      10.7G     0.4843     0.5003     0.1318        413        640: 100%|██████████| 178/178 [03:22<00:00,  1.14s/it]\n",
      "                 Class     Images  Instances      Box(P          R      mAP50  mAP50-95): 100%|██████████| 45/45 [00:42<00:00,  1.05it/s]\n"
     ]
    },
    {
     "name": "stdout",
     "output_type": "stream",
     "text": [
      "                   all       4280      38208      0.836      0.798      0.853      0.619\n",
      "\n",
      "      Epoch    GPU_mem  giou_loss   cls_loss    l1_loss  Instances       Size\n"
     ]
    },
    {
     "name": "stderr",
     "output_type": "stream",
     "text": [
      "     98/150      10.8G     0.4881     0.4957     0.1327        569        640: 100%|██████████| 178/178 [03:22<00:00,  1.14s/it]\n",
      "                 Class     Images  Instances      Box(P          R      mAP50  mAP50-95): 100%|██████████| 45/45 [00:42<00:00,  1.06it/s]\n"
     ]
    },
    {
     "name": "stdout",
     "output_type": "stream",
     "text": [
      "                   all       4280      38208       0.84      0.796      0.854       0.62\n",
      "\n",
      "      Epoch    GPU_mem  giou_loss   cls_loss    l1_loss  Instances       Size\n"
     ]
    },
    {
     "name": "stderr",
     "output_type": "stream",
     "text": [
      "     99/150      10.9G       0.48     0.4939     0.1303        455        640: 100%|██████████| 178/178 [03:22<00:00,  1.14s/it]\n",
      "                 Class     Images  Instances      Box(P          R      mAP50  mAP50-95): 100%|██████████| 45/45 [00:42<00:00,  1.06it/s]\n"
     ]
    },
    {
     "name": "stdout",
     "output_type": "stream",
     "text": [
      "                   all       4280      38208      0.837      0.798      0.854       0.62\n",
      "\n",
      "      Epoch    GPU_mem  giou_loss   cls_loss    l1_loss  Instances       Size\n"
     ]
    },
    {
     "name": "stderr",
     "output_type": "stream",
     "text": [
      "    100/150      10.8G     0.4839      0.494     0.1314        496        640: 100%|██████████| 178/178 [03:21<00:00,  1.13s/it]\n",
      "                 Class     Images  Instances      Box(P          R      mAP50  mAP50-95): 100%|██████████| 45/45 [00:42<00:00,  1.06it/s]\n"
     ]
    },
    {
     "name": "stdout",
     "output_type": "stream",
     "text": [
      "                   all       4280      38208      0.836      0.799      0.854       0.62\n",
      "\n",
      "      Epoch    GPU_mem  giou_loss   cls_loss    l1_loss  Instances       Size\n"
     ]
    },
    {
     "name": "stderr",
     "output_type": "stream",
     "text": [
      "    101/150      10.9G     0.4807     0.4953     0.1318        476        640: 100%|██████████| 178/178 [03:21<00:00,  1.13s/it]\n",
      "                 Class     Images  Instances      Box(P          R      mAP50  mAP50-95): 100%|██████████| 45/45 [00:42<00:00,  1.05it/s]\n"
     ]
    },
    {
     "name": "stdout",
     "output_type": "stream",
     "text": [
      "                   all       4280      38208      0.836      0.801      0.854      0.621\n",
      "\n",
      "      Epoch    GPU_mem  giou_loss   cls_loss    l1_loss  Instances       Size\n"
     ]
    },
    {
     "name": "stderr",
     "output_type": "stream",
     "text": [
      "    102/150      10.9G      0.475      0.492     0.1292        480        640: 100%|██████████| 178/178 [03:22<00:00,  1.14s/it]\n",
      "                 Class     Images  Instances      Box(P          R      mAP50  mAP50-95): 100%|██████████| 45/45 [00:42<00:00,  1.05it/s]\n"
     ]
    },
    {
     "name": "stdout",
     "output_type": "stream",
     "text": [
      "                   all       4280      38208      0.835      0.801      0.854      0.621\n",
      "\n",
      "      Epoch    GPU_mem  giou_loss   cls_loss    l1_loss  Instances       Size\n"
     ]
    },
    {
     "name": "stderr",
     "output_type": "stream",
     "text": [
      "    103/150      10.8G     0.4756     0.4943     0.1301        438        640: 100%|██████████| 178/178 [03:22<00:00,  1.14s/it]\n",
      "                 Class     Images  Instances      Box(P          R      mAP50  mAP50-95): 100%|██████████| 45/45 [00:42<00:00,  1.05it/s]\n"
     ]
    },
    {
     "name": "stdout",
     "output_type": "stream",
     "text": [
      "                   all       4280      38208      0.839      0.799      0.855      0.621\n",
      "\n",
      "      Epoch    GPU_mem  giou_loss   cls_loss    l1_loss  Instances       Size\n"
     ]
    },
    {
     "name": "stderr",
     "output_type": "stream",
     "text": [
      "    104/150      10.6G     0.4821     0.4912     0.1307        629        640: 100%|██████████| 178/178 [03:22<00:00,  1.14s/it]\n",
      "                 Class     Images  Instances      Box(P          R      mAP50  mAP50-95): 100%|██████████| 45/45 [00:42<00:00,  1.05it/s]\n"
     ]
    },
    {
     "name": "stdout",
     "output_type": "stream",
     "text": [
      "                   all       4280      38208      0.835      0.802      0.855      0.621\n",
      "\n",
      "      Epoch    GPU_mem  giou_loss   cls_loss    l1_loss  Instances       Size\n"
     ]
    },
    {
     "name": "stderr",
     "output_type": "stream",
     "text": [
      "    105/150      10.7G     0.4778     0.4946     0.1302        424        640: 100%|██████████| 178/178 [03:22<00:00,  1.14s/it]\n",
      "                 Class     Images  Instances      Box(P          R      mAP50  mAP50-95): 100%|██████████| 45/45 [00:42<00:00,  1.06it/s]\n"
     ]
    },
    {
     "name": "stdout",
     "output_type": "stream",
     "text": [
      "                   all       4280      38208      0.836      0.802      0.855      0.621\n",
      "\n",
      "      Epoch    GPU_mem  giou_loss   cls_loss    l1_loss  Instances       Size\n"
     ]
    },
    {
     "name": "stderr",
     "output_type": "stream",
     "text": [
      "    106/150      10.7G     0.4786     0.4957     0.1308        441        640: 100%|██████████| 178/178 [03:22<00:00,  1.14s/it]\n",
      "                 Class     Images  Instances      Box(P          R      mAP50  mAP50-95): 100%|██████████| 45/45 [00:42<00:00,  1.06it/s]\n"
     ]
    },
    {
     "name": "stdout",
     "output_type": "stream",
     "text": [
      "                   all       4280      38208      0.836      0.801      0.855      0.622\n",
      "\n",
      "      Epoch    GPU_mem  giou_loss   cls_loss    l1_loss  Instances       Size\n"
     ]
    },
    {
     "name": "stderr",
     "output_type": "stream",
     "text": [
      "    107/150      10.8G     0.4751     0.4901     0.1285        480        640: 100%|██████████| 178/178 [03:22<00:00,  1.14s/it]\n",
      "                 Class     Images  Instances      Box(P          R      mAP50  mAP50-95): 100%|██████████| 45/45 [00:42<00:00,  1.05it/s]\n"
     ]
    },
    {
     "name": "stdout",
     "output_type": "stream",
     "text": [
      "                   all       4280      38208      0.836      0.801      0.855      0.622\n",
      "\n",
      "      Epoch    GPU_mem  giou_loss   cls_loss    l1_loss  Instances       Size\n"
     ]
    },
    {
     "name": "stderr",
     "output_type": "stream",
     "text": [
      "    108/150      10.9G     0.4785     0.4921     0.1319        430        640: 100%|██████████| 178/178 [03:22<00:00,  1.14s/it]\n",
      "                 Class     Images  Instances      Box(P          R      mAP50  mAP50-95): 100%|██████████| 45/45 [00:42<00:00,  1.05it/s]\n"
     ]
    },
    {
     "name": "stdout",
     "output_type": "stream",
     "text": [
      "                   all       4280      38208      0.836      0.801      0.856      0.622\n",
      "\n",
      "      Epoch    GPU_mem  giou_loss   cls_loss    l1_loss  Instances       Size\n"
     ]
    },
    {
     "name": "stderr",
     "output_type": "stream",
     "text": [
      "    109/150      10.8G     0.4707     0.4874      0.129        415        640: 100%|██████████| 178/178 [03:22<00:00,  1.14s/it]\n",
      "                 Class     Images  Instances      Box(P          R      mAP50  mAP50-95): 100%|██████████| 45/45 [00:42<00:00,  1.05it/s]\n"
     ]
    },
    {
     "name": "stdout",
     "output_type": "stream",
     "text": [
      "                   all       4280      38208      0.835      0.802      0.856      0.622\n",
      "\n",
      "      Epoch    GPU_mem  giou_loss   cls_loss    l1_loss  Instances       Size\n"
     ]
    },
    {
     "name": "stderr",
     "output_type": "stream",
     "text": [
      "    110/150      10.8G     0.4746     0.4875     0.1288        443        640: 100%|██████████| 178/178 [03:22<00:00,  1.14s/it]\n",
      "                 Class     Images  Instances      Box(P          R      mAP50  mAP50-95): 100%|██████████| 45/45 [00:43<00:00,  1.05it/s]\n"
     ]
    },
    {
     "name": "stdout",
     "output_type": "stream",
     "text": [
      "                   all       4280      38208      0.835      0.802      0.856      0.622\n",
      "\n",
      "      Epoch    GPU_mem  giou_loss   cls_loss    l1_loss  Instances       Size\n"
     ]
    },
    {
     "name": "stderr",
     "output_type": "stream",
     "text": [
      "    111/150      10.7G     0.4662     0.4901     0.1284        444        640: 100%|██████████| 178/178 [03:22<00:00,  1.14s/it]\n",
      "                 Class     Images  Instances      Box(P          R      mAP50  mAP50-95): 100%|██████████| 45/45 [00:42<00:00,  1.05it/s]\n"
     ]
    },
    {
     "name": "stdout",
     "output_type": "stream",
     "text": [
      "                   all       4280      38208      0.837      0.802      0.856      0.622\n",
      "\n",
      "      Epoch    GPU_mem  giou_loss   cls_loss    l1_loss  Instances       Size\n"
     ]
    },
    {
     "name": "stderr",
     "output_type": "stream",
     "text": [
      "    112/150      10.9G     0.4719     0.4882     0.1277        461        640: 100%|██████████| 178/178 [03:22<00:00,  1.14s/it]\n",
      "                 Class     Images  Instances      Box(P          R      mAP50  mAP50-95): 100%|██████████| 45/45 [00:42<00:00,  1.05it/s]\n"
     ]
    },
    {
     "name": "stdout",
     "output_type": "stream",
     "text": [
      "                   all       4280      38208      0.835      0.801      0.856      0.622\n",
      "\n",
      "      Epoch    GPU_mem  giou_loss   cls_loss    l1_loss  Instances       Size\n"
     ]
    },
    {
     "name": "stderr",
     "output_type": "stream",
     "text": [
      "    113/150      10.7G     0.4718     0.4886     0.1255        463        640: 100%|██████████| 178/178 [03:22<00:00,  1.14s/it]\n",
      "                 Class     Images  Instances      Box(P          R      mAP50  mAP50-95): 100%|██████████| 45/45 [00:42<00:00,  1.05it/s]\n"
     ]
    },
    {
     "name": "stdout",
     "output_type": "stream",
     "text": [
      "                   all       4280      38208      0.836      0.802      0.856      0.623\n",
      "\n",
      "      Epoch    GPU_mem  giou_loss   cls_loss    l1_loss  Instances       Size\n"
     ]
    },
    {
     "name": "stderr",
     "output_type": "stream",
     "text": [
      "    114/150      10.7G     0.4701     0.4847     0.1265        519        640: 100%|██████████| 178/178 [03:22<00:00,  1.14s/it]\n",
      "                 Class     Images  Instances      Box(P          R      mAP50  mAP50-95): 100%|██████████| 45/45 [00:42<00:00,  1.05it/s]\n"
     ]
    },
    {
     "name": "stdout",
     "output_type": "stream",
     "text": [
      "                   all       4280      38208      0.838      0.801      0.857      0.623\n",
      "\n",
      "      Epoch    GPU_mem  giou_loss   cls_loss    l1_loss  Instances       Size\n"
     ]
    },
    {
     "name": "stderr",
     "output_type": "stream",
     "text": [
      "    115/150      10.9G     0.4702     0.4882     0.1267        444        640: 100%|██████████| 178/178 [03:22<00:00,  1.14s/it]\n",
      "                 Class     Images  Instances      Box(P          R      mAP50  mAP50-95): 100%|██████████| 45/45 [00:42<00:00,  1.05it/s]\n"
     ]
    },
    {
     "name": "stdout",
     "output_type": "stream",
     "text": [
      "                   all       4280      38208      0.836      0.802      0.857      0.623\n",
      "\n",
      "      Epoch    GPU_mem  giou_loss   cls_loss    l1_loss  Instances       Size\n"
     ]
    },
    {
     "name": "stderr",
     "output_type": "stream",
     "text": [
      "    116/150      10.9G     0.4706     0.4867     0.1285        473        640: 100%|██████████| 178/178 [03:22<00:00,  1.14s/it]\n",
      "                 Class     Images  Instances      Box(P          R      mAP50  mAP50-95): 100%|██████████| 45/45 [00:42<00:00,  1.06it/s]\n"
     ]
    },
    {
     "name": "stdout",
     "output_type": "stream",
     "text": [
      "                   all       4280      38208      0.837      0.802      0.857      0.623\n",
      "\n",
      "      Epoch    GPU_mem  giou_loss   cls_loss    l1_loss  Instances       Size\n"
     ]
    },
    {
     "name": "stderr",
     "output_type": "stream",
     "text": [
      "    117/150      10.9G     0.4676     0.4863     0.1271        454        640: 100%|██████████| 178/178 [03:22<00:00,  1.14s/it]\n",
      "                 Class     Images  Instances      Box(P          R      mAP50  mAP50-95): 100%|██████████| 45/45 [00:42<00:00,  1.06it/s]\n"
     ]
    },
    {
     "name": "stdout",
     "output_type": "stream",
     "text": [
      "                   all       4280      38208      0.839      0.801      0.857      0.623\n",
      "\n",
      "      Epoch    GPU_mem  giou_loss   cls_loss    l1_loss  Instances       Size\n"
     ]
    },
    {
     "name": "stderr",
     "output_type": "stream",
     "text": [
      "    118/150      10.8G     0.4676     0.4868     0.1276        428        640: 100%|██████████| 178/178 [03:22<00:00,  1.14s/it]\n",
      "                 Class     Images  Instances      Box(P          R      mAP50  mAP50-95): 100%|██████████| 45/45 [00:42<00:00,  1.06it/s]\n"
     ]
    },
    {
     "name": "stdout",
     "output_type": "stream",
     "text": [
      "                   all       4280      38208       0.84      0.801      0.857      0.623\n",
      "\n",
      "      Epoch    GPU_mem  giou_loss   cls_loss    l1_loss  Instances       Size\n"
     ]
    },
    {
     "name": "stderr",
     "output_type": "stream",
     "text": [
      "    119/150      10.7G     0.4593     0.4841      0.124        461        640: 100%|██████████| 178/178 [03:22<00:00,  1.14s/it]\n",
      "                 Class     Images  Instances      Box(P          R      mAP50  mAP50-95): 100%|██████████| 45/45 [00:42<00:00,  1.06it/s]\n"
     ]
    },
    {
     "name": "stdout",
     "output_type": "stream",
     "text": [
      "                   all       4280      38208      0.839        0.8      0.857      0.623\n",
      "\n",
      "      Epoch    GPU_mem  giou_loss   cls_loss    l1_loss  Instances       Size\n"
     ]
    },
    {
     "name": "stderr",
     "output_type": "stream",
     "text": [
      "    120/150      10.9G     0.4623     0.4838     0.1258        607        640: 100%|██████████| 178/178 [03:22<00:00,  1.14s/it]\n",
      "                 Class     Images  Instances      Box(P          R      mAP50  mAP50-95): 100%|██████████| 45/45 [00:41<00:00,  1.08it/s]\n"
     ]
    },
    {
     "name": "stdout",
     "output_type": "stream",
     "text": [
      "                   all       4280      38208      0.839        0.8      0.858      0.623\n",
      "\n",
      "      Epoch    GPU_mem  giou_loss   cls_loss    l1_loss  Instances       Size\n"
     ]
    },
    {
     "name": "stderr",
     "output_type": "stream",
     "text": [
      "    121/150      10.7G     0.4633     0.4813     0.1247        495        640: 100%|██████████| 178/178 [03:21<00:00,  1.13s/it]\n",
      "                 Class     Images  Instances      Box(P          R      mAP50  mAP50-95): 100%|██████████| 45/45 [00:41<00:00,  1.09it/s]\n"
     ]
    },
    {
     "name": "stdout",
     "output_type": "stream",
     "text": [
      "                   all       4280      38208      0.841      0.799      0.858      0.623\n",
      "\n",
      "      Epoch    GPU_mem  giou_loss   cls_loss    l1_loss  Instances       Size\n"
     ]
    },
    {
     "name": "stderr",
     "output_type": "stream",
     "text": [
      "    122/150      10.9G     0.4637     0.4811     0.1249        435        640: 100%|██████████| 178/178 [03:21<00:00,  1.13s/it]\n",
      "                 Class     Images  Instances      Box(P          R      mAP50  mAP50-95): 100%|██████████| 45/45 [00:42<00:00,  1.06it/s]\n"
     ]
    },
    {
     "name": "stdout",
     "output_type": "stream",
     "text": [
      "                   all       4280      38208      0.839      0.801      0.858      0.624\n",
      "\n",
      "      Epoch    GPU_mem  giou_loss   cls_loss    l1_loss  Instances       Size\n"
     ]
    },
    {
     "name": "stderr",
     "output_type": "stream",
     "text": [
      "    123/150      10.8G     0.4601     0.4826     0.1238        507        640: 100%|██████████| 178/178 [03:22<00:00,  1.14s/it]\n",
      "                 Class     Images  Instances      Box(P          R      mAP50  mAP50-95): 100%|██████████| 45/45 [00:42<00:00,  1.05it/s]\n"
     ]
    },
    {
     "name": "stdout",
     "output_type": "stream",
     "text": [
      "                   all       4280      38208      0.842      0.799      0.858      0.624\n",
      "\n",
      "      Epoch    GPU_mem  giou_loss   cls_loss    l1_loss  Instances       Size\n"
     ]
    },
    {
     "name": "stderr",
     "output_type": "stream",
     "text": [
      "    124/150      11.3G     0.4666     0.4824     0.1253        439        640: 100%|██████████| 178/178 [03:22<00:00,  1.14s/it]\n",
      "                 Class     Images  Instances      Box(P          R      mAP50  mAP50-95): 100%|██████████| 45/45 [00:42<00:00,  1.05it/s]\n"
     ]
    },
    {
     "name": "stdout",
     "output_type": "stream",
     "text": [
      "                   all       4280      38208      0.841        0.8      0.858      0.624\n",
      "\n",
      "      Epoch    GPU_mem  giou_loss   cls_loss    l1_loss  Instances       Size\n"
     ]
    },
    {
     "name": "stderr",
     "output_type": "stream",
     "text": [
      "    125/150      10.9G     0.4623      0.478     0.1248        416        640: 100%|██████████| 178/178 [03:22<00:00,  1.14s/it]\n",
      "                 Class     Images  Instances      Box(P          R      mAP50  mAP50-95): 100%|██████████| 45/45 [00:42<00:00,  1.05it/s]\n"
     ]
    },
    {
     "name": "stdout",
     "output_type": "stream",
     "text": [
      "                   all       4280      38208      0.841      0.801      0.859      0.624\n",
      "\n",
      "      Epoch    GPU_mem  giou_loss   cls_loss    l1_loss  Instances       Size\n"
     ]
    },
    {
     "name": "stderr",
     "output_type": "stream",
     "text": [
      "    126/150      10.7G     0.4621     0.4777      0.125        453        640: 100%|██████████| 178/178 [03:22<00:00,  1.14s/it]\n",
      "                 Class     Images  Instances      Box(P          R      mAP50  mAP50-95): 100%|██████████| 45/45 [00:42<00:00,  1.05it/s]\n"
     ]
    },
    {
     "name": "stdout",
     "output_type": "stream",
     "text": [
      "                   all       4280      38208      0.843        0.8      0.859      0.624\n",
      "\n",
      "      Epoch    GPU_mem  giou_loss   cls_loss    l1_loss  Instances       Size\n"
     ]
    },
    {
     "name": "stderr",
     "output_type": "stream",
     "text": [
      "    127/150        11G     0.4565       0.48     0.1226        458        640: 100%|██████████| 178/178 [03:22<00:00,  1.14s/it]\n",
      "                 Class     Images  Instances      Box(P          R      mAP50  mAP50-95): 100%|██████████| 45/45 [00:42<00:00,  1.05it/s]\n"
     ]
    },
    {
     "name": "stdout",
     "output_type": "stream",
     "text": [
      "                   all       4280      38208      0.842      0.801      0.859      0.625\n",
      "\n",
      "      Epoch    GPU_mem  giou_loss   cls_loss    l1_loss  Instances       Size\n"
     ]
    },
    {
     "name": "stderr",
     "output_type": "stream",
     "text": [
      "    128/150      10.9G     0.4593     0.4798     0.1232        421        640: 100%|██████████| 178/178 [03:21<00:00,  1.13s/it]\n",
      "                 Class     Images  Instances      Box(P          R      mAP50  mAP50-95): 100%|██████████| 45/45 [00:42<00:00,  1.05it/s]\n"
     ]
    },
    {
     "name": "stdout",
     "output_type": "stream",
     "text": [
      "                   all       4280      38208      0.843        0.8      0.859      0.625\n",
      "\n",
      "      Epoch    GPU_mem  giou_loss   cls_loss    l1_loss  Instances       Size\n"
     ]
    },
    {
     "name": "stderr",
     "output_type": "stream",
     "text": [
      "    129/150      10.9G     0.4547     0.4794     0.1231        622        640: 100%|██████████| 178/178 [03:21<00:00,  1.13s/it]\n",
      "                 Class     Images  Instances      Box(P          R      mAP50  mAP50-95): 100%|██████████| 45/45 [00:43<00:00,  1.04it/s]\n"
     ]
    },
    {
     "name": "stdout",
     "output_type": "stream",
     "text": [
      "                   all       4280      38208      0.844        0.8      0.859      0.625\n",
      "\n",
      "      Epoch    GPU_mem  giou_loss   cls_loss    l1_loss  Instances       Size\n"
     ]
    },
    {
     "name": "stderr",
     "output_type": "stream",
     "text": [
      "    130/150      10.7G     0.4542       0.48     0.1224        418        640: 100%|██████████| 178/178 [03:23<00:00,  1.14s/it]\n",
      "                 Class     Images  Instances      Box(P          R      mAP50  mAP50-95): 100%|██████████| 45/45 [00:42<00:00,  1.06it/s]\n"
     ]
    },
    {
     "name": "stdout",
     "output_type": "stream",
     "text": [
      "                   all       4280      38208      0.845      0.799      0.859      0.625\n",
      "\n",
      "      Epoch    GPU_mem  giou_loss   cls_loss    l1_loss  Instances       Size\n"
     ]
    },
    {
     "name": "stderr",
     "output_type": "stream",
     "text": [
      "    131/150      10.9G     0.4577     0.4794     0.1219        438        640: 100%|██████████| 178/178 [03:21<00:00,  1.13s/it]\n",
      "                 Class     Images  Instances      Box(P          R      mAP50  mAP50-95): 100%|██████████| 45/45 [00:42<00:00,  1.07it/s]\n"
     ]
    },
    {
     "name": "stdout",
     "output_type": "stream",
     "text": [
      "                   all       4280      38208      0.844      0.799      0.859      0.625\n",
      "\n",
      "      Epoch    GPU_mem  giou_loss   cls_loss    l1_loss  Instances       Size\n"
     ]
    },
    {
     "name": "stderr",
     "output_type": "stream",
     "text": [
      "    132/150      10.8G     0.4512     0.4735     0.1208        560        640: 100%|██████████| 178/178 [03:22<00:00,  1.13s/it]\n",
      "                 Class     Images  Instances      Box(P          R      mAP50  mAP50-95): 100%|██████████| 45/45 [00:42<00:00,  1.06it/s]\n"
     ]
    },
    {
     "name": "stdout",
     "output_type": "stream",
     "text": [
      "                   all       4280      38208      0.844        0.8       0.86      0.625\n",
      "\n",
      "      Epoch    GPU_mem  giou_loss   cls_loss    l1_loss  Instances       Size\n"
     ]
    },
    {
     "name": "stderr",
     "output_type": "stream",
     "text": [
      "    133/150      10.9G     0.4526     0.4741     0.1216        407        640: 100%|██████████| 178/178 [03:21<00:00,  1.13s/it]\n",
      "                 Class     Images  Instances      Box(P          R      mAP50  mAP50-95): 100%|██████████| 45/45 [00:42<00:00,  1.05it/s]\n"
     ]
    },
    {
     "name": "stdout",
     "output_type": "stream",
     "text": [
      "                   all       4280      38208      0.845      0.799       0.86      0.626\n",
      "\n",
      "      Epoch    GPU_mem  giou_loss   cls_loss    l1_loss  Instances       Size\n"
     ]
    },
    {
     "name": "stderr",
     "output_type": "stream",
     "text": [
      "    134/150      10.8G     0.4459     0.4774     0.1193        363        640: 100%|██████████| 178/178 [03:21<00:00,  1.13s/it]\n",
      "                 Class     Images  Instances      Box(P          R      mAP50  mAP50-95): 100%|██████████| 45/45 [00:42<00:00,  1.07it/s]\n"
     ]
    },
    {
     "name": "stdout",
     "output_type": "stream",
     "text": [
      "                   all       4280      38208      0.843      0.802       0.86      0.626\n",
      "\n",
      "      Epoch    GPU_mem  giou_loss   cls_loss    l1_loss  Instances       Size\n"
     ]
    },
    {
     "name": "stderr",
     "output_type": "stream",
     "text": [
      "    135/150      10.7G     0.4522     0.4738     0.1211        434        640: 100%|██████████| 178/178 [03:22<00:00,  1.14s/it]\n",
      "                 Class     Images  Instances      Box(P          R      mAP50  mAP50-95): 100%|██████████| 45/45 [00:42<00:00,  1.06it/s]\n"
     ]
    },
    {
     "name": "stdout",
     "output_type": "stream",
     "text": [
      "                   all       4280      38208      0.845        0.8       0.86      0.626\n",
      "\n",
      "      Epoch    GPU_mem  giou_loss   cls_loss    l1_loss  Instances       Size\n"
     ]
    },
    {
     "name": "stderr",
     "output_type": "stream",
     "text": [
      "    136/150      10.8G     0.4481     0.4709     0.1195        405        640: 100%|██████████| 178/178 [03:22<00:00,  1.14s/it]\n",
      "                 Class     Images  Instances      Box(P          R      mAP50  mAP50-95): 100%|██████████| 45/45 [00:42<00:00,  1.07it/s]\n"
     ]
    },
    {
     "name": "stdout",
     "output_type": "stream",
     "text": [
      "                   all       4280      38208      0.847        0.8       0.86      0.626\n",
      "\n",
      "      Epoch    GPU_mem  giou_loss   cls_loss    l1_loss  Instances       Size\n"
     ]
    },
    {
     "name": "stderr",
     "output_type": "stream",
     "text": [
      "    137/150      10.7G     0.4393     0.4722      0.119        454        640: 100%|██████████| 178/178 [03:22<00:00,  1.14s/it]\n",
      "                 Class     Images  Instances      Box(P          R      mAP50  mAP50-95): 100%|██████████| 45/45 [00:42<00:00,  1.06it/s]\n"
     ]
    },
    {
     "name": "stdout",
     "output_type": "stream",
     "text": [
      "                   all       4280      38208      0.846        0.8      0.861      0.626\n",
      "\n",
      "      Epoch    GPU_mem  giou_loss   cls_loss    l1_loss  Instances       Size\n"
     ]
    },
    {
     "name": "stderr",
     "output_type": "stream",
     "text": [
      "    138/150      10.8G     0.4545     0.4685     0.1217        530        640: 100%|██████████| 178/178 [03:22<00:00,  1.14s/it]\n",
      "                 Class     Images  Instances      Box(P          R      mAP50  mAP50-95): 100%|██████████| 45/45 [00:42<00:00,  1.07it/s]\n"
     ]
    },
    {
     "name": "stdout",
     "output_type": "stream",
     "text": [
      "                   all       4280      38208      0.846        0.8      0.861      0.626\n",
      "\n",
      "      Epoch    GPU_mem  giou_loss   cls_loss    l1_loss  Instances       Size\n"
     ]
    },
    {
     "name": "stderr",
     "output_type": "stream",
     "text": [
      "    139/150      10.6G     0.4505     0.4712      0.121        459        640: 100%|██████████| 178/178 [03:21<00:00,  1.13s/it]\n",
      "                 Class     Images  Instances      Box(P          R      mAP50  mAP50-95): 100%|██████████| 45/45 [00:42<00:00,  1.07it/s]\n"
     ]
    },
    {
     "name": "stdout",
     "output_type": "stream",
     "text": [
      "                   all       4280      38208      0.847        0.8      0.861      0.626\n",
      "\n",
      "      Epoch    GPU_mem  giou_loss   cls_loss    l1_loss  Instances       Size\n"
     ]
    },
    {
     "name": "stderr",
     "output_type": "stream",
     "text": [
      "    140/150      10.6G     0.4507     0.4711     0.1198        490        640: 100%|██████████| 178/178 [03:22<00:00,  1.14s/it]\n",
      "                 Class     Images  Instances      Box(P          R      mAP50  mAP50-95): 100%|██████████| 45/45 [00:42<00:00,  1.06it/s]\n"
     ]
    },
    {
     "name": "stdout",
     "output_type": "stream",
     "text": [
      "                   all       4280      38208      0.847        0.8      0.861      0.627\n",
      "Closing dataloader mosaic\n",
      "\u001b[34m\u001b[1malbumentations: \u001b[0mBlur(p=0.01, blur_limit=(3, 7)), MedianBlur(p=0.01, blur_limit=(3, 7)), ToGray(p=0.01, num_output_channels=3, method='weighted_average'), CLAHE(p=0.01, clip_limit=(1.0, 4.0), tile_grid_size=(8, 8))\n",
      "\n",
      "      Epoch    GPU_mem  giou_loss   cls_loss    l1_loss  Instances       Size\n"
     ]
    },
    {
     "name": "stderr",
     "output_type": "stream",
     "text": [
      "/opt/conda/lib/python3.10/multiprocessing/popen_fork.py:66: RuntimeWarning: os.fork() was called. os.fork() is incompatible with multithreaded code, and JAX is multithreaded, so this will likely lead to a deadlock.\n",
      "  self.pid = os.fork()\n",
      "    141/150      10.9G     0.3937     0.4596     0.1172        312        640: 100%|██████████| 178/178 [03:19<00:00,  1.12s/it]\n",
      "                 Class     Images  Instances      Box(P          R      mAP50  mAP50-95): 100%|██████████| 45/45 [00:42<00:00,  1.07it/s]\n"
     ]
    },
    {
     "name": "stdout",
     "output_type": "stream",
     "text": [
      "                   all       4280      38208      0.845      0.801      0.861      0.626\n",
      "\n",
      "      Epoch    GPU_mem  giou_loss   cls_loss    l1_loss  Instances       Size\n"
     ]
    },
    {
     "name": "stderr",
     "output_type": "stream",
     "text": [
      "    142/150      10.9G     0.3921     0.4573     0.1164        321        640: 100%|██████████| 178/178 [03:15<00:00,  1.10s/it]\n",
      "                 Class     Images  Instances      Box(P          R      mAP50  mAP50-95): 100%|██████████| 45/45 [00:42<00:00,  1.06it/s]\n"
     ]
    },
    {
     "name": "stdout",
     "output_type": "stream",
     "text": [
      "                   all       4280      38208      0.845        0.8      0.861      0.626\n",
      "\n",
      "      Epoch    GPU_mem  giou_loss   cls_loss    l1_loss  Instances       Size\n"
     ]
    },
    {
     "name": "stderr",
     "output_type": "stream",
     "text": [
      "    143/150      10.4G     0.3923     0.4531     0.1164        318        640: 100%|██████████| 178/178 [03:16<00:00,  1.10s/it]\n",
      "                 Class     Images  Instances      Box(P          R      mAP50  mAP50-95): 100%|██████████| 45/45 [00:42<00:00,  1.06it/s]\n"
     ]
    },
    {
     "name": "stdout",
     "output_type": "stream",
     "text": [
      "                   all       4280      38208      0.843      0.801      0.861      0.627\n",
      "\n",
      "      Epoch    GPU_mem  giou_loss   cls_loss    l1_loss  Instances       Size\n"
     ]
    },
    {
     "name": "stderr",
     "output_type": "stream",
     "text": [
      "    144/150      10.7G     0.3923     0.4527      0.117        329        640: 100%|██████████| 178/178 [03:16<00:00,  1.10s/it]\n",
      "                 Class     Images  Instances      Box(P          R      mAP50  mAP50-95): 100%|██████████| 45/45 [00:42<00:00,  1.05it/s]\n"
     ]
    },
    {
     "name": "stdout",
     "output_type": "stream",
     "text": [
      "                   all       4280      38208      0.845      0.802      0.861      0.627\n",
      "\n",
      "      Epoch    GPU_mem  giou_loss   cls_loss    l1_loss  Instances       Size\n"
     ]
    },
    {
     "name": "stderr",
     "output_type": "stream",
     "text": [
      "    145/150      10.5G      0.391     0.4514     0.1149        358        640: 100%|██████████| 178/178 [03:16<00:00,  1.10s/it]\n",
      "                 Class     Images  Instances      Box(P          R      mAP50  mAP50-95): 100%|██████████| 45/45 [00:42<00:00,  1.05it/s]\n"
     ]
    },
    {
     "name": "stdout",
     "output_type": "stream",
     "text": [
      "                   all       4280      38208      0.843      0.803      0.862      0.627\n",
      "\n",
      "      Epoch    GPU_mem  giou_loss   cls_loss    l1_loss  Instances       Size\n"
     ]
    },
    {
     "name": "stderr",
     "output_type": "stream",
     "text": [
      "    146/150      10.5G     0.3923     0.4525     0.1166        281        640: 100%|██████████| 178/178 [03:16<00:00,  1.10s/it]\n",
      "                 Class     Images  Instances      Box(P          R      mAP50  mAP50-95): 100%|██████████| 45/45 [00:42<00:00,  1.05it/s]\n"
     ]
    },
    {
     "name": "stdout",
     "output_type": "stream",
     "text": [
      "                   all       4280      38208      0.845      0.802      0.862      0.627\n",
      "\n",
      "      Epoch    GPU_mem  giou_loss   cls_loss    l1_loss  Instances       Size\n"
     ]
    },
    {
     "name": "stderr",
     "output_type": "stream",
     "text": [
      "    147/150      10.5G     0.3892     0.4511     0.1151        269        640: 100%|██████████| 178/178 [03:16<00:00,  1.11s/it]\n",
      "                 Class     Images  Instances      Box(P          R      mAP50  mAP50-95): 100%|██████████| 45/45 [00:42<00:00,  1.05it/s]\n"
     ]
    },
    {
     "name": "stdout",
     "output_type": "stream",
     "text": [
      "                   all       4280      38208      0.845      0.802      0.862      0.628\n",
      "\n",
      "      Epoch    GPU_mem  giou_loss   cls_loss    l1_loss  Instances       Size\n"
     ]
    },
    {
     "name": "stderr",
     "output_type": "stream",
     "text": [
      "    148/150      10.9G     0.3858     0.4487      0.114        293        640: 100%|██████████| 178/178 [03:16<00:00,  1.10s/it]\n",
      "                 Class     Images  Instances      Box(P          R      mAP50  mAP50-95): 100%|██████████| 45/45 [00:42<00:00,  1.05it/s]\n"
     ]
    },
    {
     "name": "stdout",
     "output_type": "stream",
     "text": [
      "                   all       4280      38208      0.845      0.802      0.862      0.628\n",
      "\n",
      "      Epoch    GPU_mem  giou_loss   cls_loss    l1_loss  Instances       Size\n"
     ]
    },
    {
     "name": "stderr",
     "output_type": "stream",
     "text": [
      "    149/150      10.9G     0.3843     0.4479     0.1131        303        640: 100%|██████████| 178/178 [03:17<00:00,  1.11s/it]\n",
      "                 Class     Images  Instances      Box(P          R      mAP50  mAP50-95): 100%|██████████| 45/45 [00:42<00:00,  1.05it/s]\n"
     ]
    },
    {
     "name": "stdout",
     "output_type": "stream",
     "text": [
      "                   all       4280      38208      0.846      0.801      0.863      0.628\n",
      "\n",
      "      Epoch    GPU_mem  giou_loss   cls_loss    l1_loss  Instances       Size\n"
     ]
    },
    {
     "name": "stderr",
     "output_type": "stream",
     "text": [
      "    150/150      10.4G     0.3839     0.4457     0.1141        309        640: 100%|██████████| 178/178 [03:16<00:00,  1.11s/it]\n",
      "                 Class     Images  Instances      Box(P          R      mAP50  mAP50-95): 100%|██████████| 45/45 [00:42<00:00,  1.05it/s]\n"
     ]
    },
    {
     "name": "stdout",
     "output_type": "stream",
     "text": [
      "                   all       4280      38208      0.845      0.802      0.862      0.629\n",
      "\n",
      "150 epochs completed in 10.209 hours.\n",
      "Optimizer stripped from runs/detect/train/weights/last.pt, 5.9MB\n",
      "Optimizer stripped from runs/detect/train/weights/best.pt, 5.9MB\n",
      "\n",
      "Validating runs/detect/train/weights/best.pt...\n",
      "Ultralytics 8.3.78 🚀 Python-3.10.14 torch-2.4.0 CUDA:0 (Tesla T4, 15095MiB)\n",
      "                                                 CUDA:1 (Tesla T4, 15095MiB)\n",
      "rtdetr-nano-resnet-test summary: 139 layers, 2,813,304 parameters, 0 gradients, 6.7 GFLOPs\n"
     ]
    },
    {
     "name": "stderr",
     "output_type": "stream",
     "text": [
      "                 Class     Images  Instances      Box(P          R      mAP50  mAP50-95): 100%|██████████| 45/45 [00:45<00:00,  1.01s/it]\n"
     ]
    },
    {
     "name": "stdout",
     "output_type": "stream",
     "text": [
      "                   all       4280      38208      0.845      0.801      0.862      0.628\n",
      "                   bus       1599       2558      0.848      0.776      0.845      0.622\n",
      "                   car       3639      20864      0.875      0.884       0.92      0.688\n",
      "             motorbike       2215      10867       0.83      0.797      0.864       0.59\n",
      "                 truck       2064       3919      0.828      0.745       0.82      0.615\n",
      "Speed: 0.5ms preprocess, 6.0ms inference, 0.0ms loss, 0.2ms postprocess per image\n",
      "Results saved to \u001b[1mruns/detect/train\u001b[0m\n"
     ]
    }
   ],
   "source": [
    "model.train(data='/kaggle/working/data.yaml', epochs=150, workers=4, batch=96, imgsz=640, seed=42, optimizer=\"AdamW\", save_period=10, device=[0, 1], amp=False, warmup_epochs=20, deterministic=False, lr0=0.01, lrf=0.0001)"
   ]
  },
  {
   "cell_type": "code",
   "execution_count": 10,
   "id": "35c798cf",
   "metadata": {
    "execution": {
     "iopub.execute_input": "2025-03-31T12:32:26.468989Z",
     "iopub.status.busy": "2025-03-31T12:32:26.468182Z",
     "iopub.status.idle": "2025-03-31T12:32:26.472686Z",
     "shell.execute_reply": "2025-03-31T12:32:26.471861Z"
    },
    "papermill": {
     "duration": 1.823059,
     "end_time": "2025-03-31T12:32:26.474460",
     "exception": false,
     "start_time": "2025-03-31T12:32:24.651401",
     "status": "completed"
    },
    "tags": []
   },
   "outputs": [],
   "source": [
    "#model.train(data='/kaggle/working/data.yaml', epochs=150, workers=4, batch=128, imgsz=640, seed=42, optimizer=\"AdamW\", save_period=10, device=[0, 1], amp=True, warmup_epochs=20, deterministic=False, lr0=0.01, lrf=0.0001)"
   ]
  },
  {
   "cell_type": "code",
   "execution_count": 11,
   "id": "8c10357b",
   "metadata": {
    "execution": {
     "iopub.execute_input": "2025-03-31T12:32:29.984814Z",
     "iopub.status.busy": "2025-03-31T12:32:29.984482Z",
     "iopub.status.idle": "2025-03-31T12:32:29.989358Z",
     "shell.execute_reply": "2025-03-31T12:32:29.988566Z"
    },
    "papermill": {
     "duration": 1.7668,
     "end_time": "2025-03-31T12:32:29.990936",
     "exception": false,
     "start_time": "2025-03-31T12:32:28.224136",
     "status": "completed"
    },
    "tags": []
   },
   "outputs": [],
   "source": [
    "# def predictions_from_images_to_labelme(\n",
    "#         img_path,\n",
    "#         output_path,\n",
    "#         label_dict={\n",
    "#             5: 'bus',\n",
    "#             2: 'car',\n",
    "#             3: 'motorbike',\n",
    "#             7: 'truck'\n",
    "#         }):\n",
    "#     \"\"\"Convert model predictions to LabelMe format\n",
    "\n",
    "#     Args:\n",
    "#         model_path (str): path to model\n",
    "#         video_path (str): path to video\n",
    "#         output_path (str): path to output folder\n",
    "#     \"\"\"\n",
    "#     os.makedirs(output_path, exist_ok=True)\n",
    "\n",
    "#     list_imgs = glob.glob(img_path + '/*.jpg')\n",
    "\n",
    "#     for frame_id, img_path in enumerate(tqdm(list_imgs)):\n",
    "#         torch.cuda.empty_cache()\n",
    "#         frame = cv2.imread(img_path)\n",
    "        \n",
    "#         results = model.predict(frame, conf=0.5, verbose=False, device='0')[0]\n",
    "#         class_ids = results.boxes.cls.cpu().numpy()\n",
    "#         boxes = results.boxes.xyxy.cpu().numpy()\n",
    "\n",
    "#         annotations = []\n",
    "#         for class_id, box in zip(class_ids, boxes):\n",
    "#             if int(class_id) not in label_dict.keys():\n",
    "#                 continue\n",
    "            \n",
    "#             xmin, ymin, xmax, ymax = map(float, box)\n",
    "#             points = [[xmin, ymin], [xmax, ymax]]\n",
    "#             annotation = {\n",
    "#                 \"label\": label_dict[int(class_id)],\n",
    "#                 \"points\": points,\n",
    "#                 \"group_id\": None,\n",
    "#                 \"shape_type\": \"rectangle\",\n",
    "#                 \"flags\": {}\n",
    "#             }\n",
    "#             annotations.append(annotation)\n",
    "\n",
    "#         labelme_content = {\n",
    "#             \"version\": \"5.6.0\",\n",
    "#             \"flags\": {},\n",
    "#             \"shapes\": annotations,\n",
    "#             \"imagePath\": f\"frame_{frame_id}.jpg\",\n",
    "#             \"imageData\": None,\n",
    "#             \"imageHeight\": frame.shape[0],\n",
    "#             \"imageWidth\": frame.shape[1]\n",
    "#         }\n",
    "\n",
    "#         frame_output_path = os.path.join(output_path, f\"frame_{frame_id}.jpg\")\n",
    "#         json_output_path = os.path.join(output_path, f\"frame_{frame_id}.json\")\n",
    "\n",
    "#         cv2.imwrite(frame_output_path, frame)\n",
    "#         with open(json_output_path, 'w') as f:\n",
    "#             json.dump(labelme_content, f)"
   ]
  },
  {
   "cell_type": "code",
   "execution_count": 12,
   "id": "845c1efd",
   "metadata": {
    "execution": {
     "iopub.execute_input": "2025-03-31T12:32:33.610763Z",
     "iopub.status.busy": "2025-03-31T12:32:33.609969Z",
     "iopub.status.idle": "2025-03-31T12:32:33.613929Z",
     "shell.execute_reply": "2025-03-31T12:32:33.613219Z"
    },
    "papermill": {
     "duration": 1.774121,
     "end_time": "2025-03-31T12:32:33.615533",
     "exception": false,
     "start_time": "2025-03-31T12:32:31.841412",
     "status": "completed"
    },
    "tags": []
   },
   "outputs": [],
   "source": [
    "# predictions_from_images_to_labelme(\n",
    "#         img_path=\"/kaggle/input/vehicle-detection-v1/combination/images/train\",\n",
    "#         output_path=\"/kaggle/working/combination/train\",\n",
    "#         label_dict={\n",
    "#             5: 'bus',\n",
    "#             2: 'car',\n",
    "#             3: 'motorbike',\n",
    "#             7: 'truck'\n",
    "#         })"
   ]
  },
  {
   "cell_type": "code",
   "execution_count": 13,
   "id": "21aec25c",
   "metadata": {
    "execution": {
     "iopub.execute_input": "2025-03-31T12:32:37.392391Z",
     "iopub.status.busy": "2025-03-31T12:32:37.392029Z",
     "iopub.status.idle": "2025-03-31T12:32:37.396059Z",
     "shell.execute_reply": "2025-03-31T12:32:37.395231Z"
    },
    "papermill": {
     "duration": 1.832386,
     "end_time": "2025-03-31T12:32:37.397899",
     "exception": false,
     "start_time": "2025-03-31T12:32:35.565513",
     "status": "completed"
    },
    "tags": []
   },
   "outputs": [],
   "source": [
    "# predictions_from_images_to_labelme(\n",
    "#         img_path=\"/kaggle/input/vehicle-detection-v1/combination/images/val\",\n",
    "#         output_path=\"/kaggle/working/combination/val\",\n",
    "#         label_dict={\n",
    "#             5: 'bus',\n",
    "#             2: 'car',                               \n",
    "#             3: 'motorbike',\n",
    "#             7: 'truck'\n",
    "#         })"
   ]
  },
  {
   "cell_type": "code",
   "execution_count": 14,
   "id": "7b2be8e4",
   "metadata": {
    "execution": {
     "iopub.execute_input": "2025-03-31T12:32:40.932838Z",
     "iopub.status.busy": "2025-03-31T12:32:40.932274Z",
     "iopub.status.idle": "2025-03-31T12:32:40.936165Z",
     "shell.execute_reply": "2025-03-31T12:32:40.935335Z"
    },
    "papermill": {
     "duration": 1.793482,
     "end_time": "2025-03-31T12:32:40.937821",
     "exception": false,
     "start_time": "2025-03-31T12:32:39.144339",
     "status": "completed"
    },
    "tags": []
   },
   "outputs": [],
   "source": [
    "# model = YOLO(\"yolo11n.pt\")\n",
    "# model.train(data='/kaggle/working/data.yaml', epochs=100, workers=16, batch=32, imgsz=640, seed=42, optimizer=\"AdamW\", save_period=10, device=[0, 1])"
   ]
  },
  {
   "cell_type": "code",
   "execution_count": 15,
   "id": "1ce5c380",
   "metadata": {
    "execution": {
     "iopub.execute_input": "2025-03-31T12:32:44.488994Z",
     "iopub.status.busy": "2025-03-31T12:32:44.488660Z",
     "iopub.status.idle": "2025-03-31T12:32:44.492415Z",
     "shell.execute_reply": "2025-03-31T12:32:44.491661Z"
    },
    "papermill": {
     "duration": 1.758418,
     "end_time": "2025-03-31T12:32:44.493950",
     "exception": false,
     "start_time": "2025-03-31T12:32:42.735532",
     "status": "completed"
    },
    "tags": []
   },
   "outputs": [],
   "source": [
    "# model = RTDETR(\"rtdetr-l.pt\")\n",
    "# model.train(data='/kaggle/working/data.yaml', epochs=100, workers=16, batch=24, imgsz=640, seed=42, optimizer=\"AdamW\", save_period=10, device=[0, 1])"
   ]
  },
  {
   "cell_type": "code",
   "execution_count": 16,
   "id": "08127da9",
   "metadata": {
    "execution": {
     "iopub.execute_input": "2025-03-31T12:32:48.066786Z",
     "iopub.status.busy": "2025-03-31T12:32:48.066449Z",
     "iopub.status.idle": "2025-03-31T12:32:48.070155Z",
     "shell.execute_reply": "2025-03-31T12:32:48.069452Z"
    },
    "papermill": {
     "duration": 1.834368,
     "end_time": "2025-03-31T12:32:48.071785",
     "exception": false,
     "start_time": "2025-03-31T12:32:46.237417",
     "status": "completed"
    },
    "tags": []
   },
   "outputs": [],
   "source": [
    "# model = RTDETR(\"/kaggle/input/rt-detr-continue-to-train/last.pt\")\n",
    "# model.train(data='/kaggle/working/data.yaml', resume=True)                                         "
   ]
  }
 ],
 "metadata": {
  "kaggle": {
   "accelerator": "nvidiaTeslaT4",
   "dataSources": [
    {
     "datasetId": 6480498,
     "sourceId": 11035314,
     "sourceType": "datasetVersion"
    },
    {
     "datasetId": 6922251,
     "sourceId": 11113078,
     "sourceType": "datasetVersion"
    },
    {
     "datasetId": 6635887,
     "sourceId": 11191593,
     "sourceType": "datasetVersion"
    }
   ],
   "dockerImageVersionId": 30787,
   "isGpuEnabled": true,
   "isInternetEnabled": true,
   "language": "python",
   "sourceType": "notebook"
  },
  "kernelspec": {
   "display_name": "Python 3",
   "language": "python",
   "name": "python3"
  },
  "language_info": {
   "codemirror_mode": {
    "name": "ipython",
    "version": 3
   },
   "file_extension": ".py",
   "mimetype": "text/x-python",
   "name": "python",
   "nbconvert_exporter": "python",
   "pygments_lexer": "ipython3",
   "version": "3.10.14"
  },
  "papermill": {
   "default_parameters": {},
   "duration": 36987.299624,
   "end_time": "2025-03-31T12:32:52.265180",
   "environment_variables": {},
   "exception": null,
   "input_path": "__notebook__.ipynb",
   "output_path": "__notebook__.ipynb",
   "parameters": {},
   "start_time": "2025-03-31T02:16:24.965556",
   "version": "2.6.0"
  }
 },
 "nbformat": 4,
 "nbformat_minor": 5
}
